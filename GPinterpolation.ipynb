{
 "cells": [
  {
   "cell_type": "code",
   "execution_count": 1,
   "id": "4d2d71d4-901a-4a24-8044-f37b0251e7e3",
   "metadata": {},
   "outputs": [],
   "source": [
    "import spotchaos.syntheticSignals as sp\n",
    "\n",
    "import numpy as np\n",
    "import matplotlib.pyplot as plt\n",
    "import matplotlib.gridspec as gridspec\n",
    "import matplotlib.animation as animation\n",
    "from matplotlib.animation import TimedAnimation\n",
    "from mpl_toolkits import mplot3d\n",
    "from mpl_toolkits.axes_grid1 import make_axes_locatable\n",
    "import time\n",
    "import tqdm\n",
    "import pickle\n",
    "import os\n",
    "from astropy.timeseries import LombScargle\n",
    "from scipy.integrate import RK45, DOP853\n",
    "from scipy.stats import chi2, iqr\n",
    "from scipy.signal import argrelextrema, savgol_filter\n",
    "from scipy.spatial.distance import chebyshev\n",
    "from scipy.optimize import curve_fit\n",
    "\n",
    "import jax\n",
    "import jax.numpy as jnp\n",
    "import jaxopt\n",
    "jax.config.update(\"jax_enable_x64\", True)\n",
    "\n",
    "from tinygp import kernels, GaussianProcess\n",
    "\n",
    "from pytisean import tiseano, tiseanio"
   ]
  },
  {
   "cell_type": "code",
   "execution_count": 2,
   "id": "7d1fe6d2-8d63-4c43-8c78-b2942d201d0d",
   "metadata": {},
   "outputs": [],
   "source": [
    "cadences = np.array((0.01, 0.05, 0.1))\n",
    "Ncyc = np.array((5,10,50))"
   ]
  },
  {
   "cell_type": "markdown",
   "id": "7349b27d",
   "metadata": {},
   "source": [
    "### Gaussian noise"
   ]
  },
  {
   "cell_type": "code",
   "execution_count": 3,
   "id": "2dfc6719-292e-456f-9da6-04efeb29a46d",
   "metadata": {},
   "outputs": [],
   "source": [
    "np.random.seed(8421)\n",
    "\n",
    "dt = 0.01\n",
    "tmin = -100.\n",
    "tmax = 100.\n",
    "baseline = tmax - tmin\n",
    "t = np.arange(tmin,tmax,dt)\n",
    "\n",
    "gaussianNoise = np.random.normal(0.,1.,len(t))\n",
    "#sp.plotTimeSeries(t, gaussianNoise,min_freq=(1./baseline),max_freq=(1./(2.*dt)),title=\"Gaussian noise\")"
   ]
  },
  {
   "cell_type": "markdown",
   "id": "b1e4c29a-a870-43fd-9098-85cc9b9db84f",
   "metadata": {},
   "source": [
    "### Multiperiodic signals"
   ]
  },
  {
   "cell_type": "code",
   "execution_count": 4,
   "id": "96bfce02-17d4-47a4-89cc-e5e9304cde4d",
   "metadata": {},
   "outputs": [],
   "source": [
    "dt = 0.01\n",
    "tmin = -500.\n",
    "tmax = 500.\n",
    "baseline = tmax - tmin\n",
    "t = np.arange(tmin,tmax,dt)\n",
    "\n",
    "v1 = 2*np.pi*(1./23.)\n",
    "v2 = 2*np.pi*(1./29.)\n",
    "\n",
    "trueFreqs = np.array((1./23.,1./29.))\n",
    "\n",
    "simplePeriodic = (np.sin(t*v1) + np.sin(t*v2))\n",
    "simplePeriodic = simplePeriodic/np.mean(simplePeriodic)\n",
    "#sp.plotTimeSeries(t, simplePeriodic,min_freq=(1./baseline),max_freq=(1./(2.*dt)), nq=10, spp=100, \n",
    "#               LS_xlim = (0.1*np.min(trueFreqs),2*np.max(trueFreqs)), plot_harmonics=True, \n",
    "#               true_freq=trueFreqs,title=\"Sum of sines\")\n"
   ]
  },
  {
   "cell_type": "code",
   "execution_count": 5,
   "id": "49c93736-d0b7-4346-bd26-adab579b3a48",
   "metadata": {},
   "outputs": [],
   "source": [
    "# multi-periodic signal from Kovacs & Buchler 1988\n",
    "dt = 0.01\n",
    "tmin = -1000.\n",
    "tmax = 1000.\n",
    "baseline = tmax - tmin\n",
    "t = np.arange(tmin,tmax,dt)\n",
    "\n",
    "multiPeriodic_r, multiPeriodic_v = sp.KB88(t)\n",
    "\n",
    "trueFreqs = np.array((0.1, 0.048, 0.0252, 0.1+0.048, 0.1-0.048, 0.048+0.0252, 0.048-0.0252, 0.1+0.0252, 0.1-0.0252, 2*0.1, 2*0.048,))\n",
    "\n",
    "#sp.plotTimeSeries(t, multiPeriodic_r, min_freq=0.5*np.min(trueFreqs),max_freq=np.max(trueFreqs)+0.5*np.min(trueFreqs), nq=10, spp=100, \n",
    "#               LS_xlim = (0.5*np.min(trueFreqs),np.max(trueFreqs)+0.5*np.min(trueFreqs)), true_freq=trueFreqs, plot_harmonics=True, title=\"KB88 R(t)\")\n",
    "#sp.plotTimeSeries(t, multiPeriodic_v, min_freq=0.5*np.min(trueFreqs),max_freq=np.max(trueFreqs)+0.5*np.min(trueFreqs), nq=10, spp=100, \n",
    "#               LS_xlim = (0.5*np.min(trueFreqs),np.max(trueFreqs)+0.5*np.min(trueFreqs)), true_freq=trueFreqs, title=\"KB88 v(t)\")\n"
   ]
  },
  {
   "cell_type": "markdown",
   "id": "eb411163-f867-4474-8a79-f656cd0ebf4b",
   "metadata": {},
   "source": [
    "### load in Rossler, transformed Rossler, Lorenz time series"
   ]
  },
  {
   "cell_type": "code",
   "execution_count": 6,
   "id": "baf5b04a-8242-49a7-b964-23090c52b816",
   "metadata": {},
   "outputs": [
    {
     "name": "stdout",
     "output_type": "stream",
     "text": [
      "81\n",
      "81\n",
      "81\n"
     ]
    }
   ],
   "source": [
    "rossler_x_f = ! ls ./corrDimTesting/rossler/rossler_x_P*.npy\n",
    "rossler_y_f = ! ls ./corrDimTesting/rossler/rossler_y_P*.npy\n",
    "rossler_z_f = ! ls ./corrDimTesting/rossler/rossler_z_P*.npy\n",
    "\n",
    "rossler_f = list(rossler_x_f) + list(rossler_y_f) + list(rossler_z_f)\n",
    "\n",
    "transformed_rossler_x_f = ! ls ./corrDimTesting/transformed_rossler/transformed_rossler_x_P*.npy\n",
    "transformed_rossler_y_f = ! ls ./corrDimTesting/transformed_rossler/transformed_rossler_y_P*.npy\n",
    "transformed_rossler_z_f = ! ls ./corrDimTesting/transformed_rossler/transformed_rossler_z_P*.npy\n",
    "transformed_rossler_f = list(transformed_rossler_x_f) + list(transformed_rossler_y_f) + list(transformed_rossler_z_f)\n",
    "\n",
    "lorenz_x_f = ! ls ./corrDimTesting/lorenz/lorenz_x_P*.npy\n",
    "lorenz_y_f = ! ls ./corrDimTesting/lorenz/lorenz_y_P*.npy\n",
    "lorenz_z_f = ! ls ./corrDimTesting/lorenz/lorenz_z_P*.npy\n",
    "lorenz_f = list(lorenz_x_f) + list(lorenz_y_f) + list(lorenz_z_f)\n",
    "\n",
    "print(len(rossler_f))\n",
    "print(len(transformed_rossler_f))\n",
    "print(len(lorenz_f))"
   ]
  },
  {
   "cell_type": "code",
   "execution_count": 7,
   "id": "776a0e02-162b-435a-ad3f-b63d871301c4",
   "metadata": {},
   "outputs": [
    {
     "data": {
      "image/png": "[encoded data removed]",
      "text/plain": [
       "<Figure size 576x432 with 1 Axes>"
      ]
     },
     "metadata": {
      "needs_background": "light"
     },
     "output_type": "display_data"
    }
   ],
   "source": [
    "# test that expected QP is recovered, even for low-cadence time series\n",
    "recovered_qp_001 = []\n",
    "recovered_qp_005 = []\n",
    "recovered_qp_01 = []\n",
    "for ts in lorenz_z_f:\n",
    "    timeSeries = np.load(ts)\n",
    "    \n",
    "    fileName = ts.split(\"/\")[-1]\n",
    "    #print(fileName)\n",
    "    timeFileName = fileName.split(\"Pq\")[0] + \"t_Pq\" + fileName.split(\"Pq\")[1]\n",
    "\n",
    "    time = np.load(\"/\".join(ts.split(\"/\")[:-1]) + \"/\" + timeFileName)\n",
    "    #fig, axes = plt.subplots(1,1, figsize=(8,6))\n",
    "    #plt.plot(time,timeSeries,'k.')\n",
    "    #plt.show()\n",
    "    if \"transformed\" in fileName:\n",
    "        varname = fileName.split(\"_\")[2]\n",
    "    else:\n",
    "        varname = fileName.split(\"_\")[1]\n",
    "\n",
    "    details = \"Pq\" + fileName.split(\"Pq\")[1].split(\".npy\")[0]\n",
    "    Pq = float(details.split(\"Pq=\")[1].split(\"_\")[0])\n",
    "    cad = float(details.split(\"cad=\")[1].split(\"_\")[0])\n",
    "    Ncyc = int(details.split(\"Ncyc=\")[1].split(\"_\")[0])\n",
    "    version = int(details.split(\"_v\")[1])\n",
    "    \n",
    "    if \"lorenz\" in fileName and varname != \"z\":\n",
    "        qp = sp.estimateQuasiPeriod(time, timeSeries, method=\"localMaxSep\", plot=False) \n",
    "    else:\n",
    "        qp = sp.estimateQuasiPeriod(time, timeSeries, method=\"power\", plot=False) # in units of test cadence, dt = 0.01 #alternative method=\"localMaxSep\"\n",
    "    #print(cad)\n",
    "    #print(qp)\n",
    "    if cad == 0.01:\n",
    "        recovered_qp_001.append(qp*cad)\n",
    "    elif cad == 0.05:\n",
    "        recovered_qp_005.append(qp*cad)\n",
    "    elif cad == 0.1:\n",
    "        recovered_qp_01.append(qp*cad)\n",
    "    \n",
    "\n",
    "fig2, ax = plt.subplots(1,1,figsize=(8,6))\n",
    "ax.hist(np.array(recovered_qp_001),color='b', alpha=0.5, bins=20, range=(0.85,1.05))\n",
    "ax.hist(np.array(recovered_qp_005),color='g', alpha=0.5, bins=20, range=(0.85,1.05))\n",
    "ax.hist(np.array(recovered_qp_01),color='r', alpha=0.5, bins=20, range=(0.85,1.05))\n",
    "plt.show()"
   ]
  },
  {
   "cell_type": "markdown",
   "id": "53cc11b2-ecff-44c4-96e6-a4e9c84b86ef",
   "metadata": {},
   "source": [
    "# getting started with TinyGP"
   ]
  },
  {
   "cell_type": "code",
   "execution_count": 24,
   "id": "c761bda0-1932-4561-9e11-9a4a518d8504",
   "metadata": {},
   "outputs": [
    {
     "name": "stdout",
     "output_type": "stream",
     "text": [
      "<class 'jaxlib.xla_extension.DeviceArray'>\n",
      "(5, 1000)\n"
     ]
    },
    {
     "data": {
      "image/png": "[encoded data removed]",
      "text/plain": [
       "<Figure size 432x288 with 1 Axes>"
      ]
     },
     "metadata": {
      "needs_background": "light"
     },
     "output_type": "display_data"
    },
    {
     "data": {
      "image/png": "[encoded data removed]",
      "text/plain": [
       "<Figure size 576x432 with 1 Axes>"
      ]
     },
     "metadata": {
      "needs_background": "light"
     },
     "output_type": "display_data"
    },
    {
     "name": "stdout",
     "output_type": "stream",
     "text": [
      "(800,)\n",
      "(800,)\n"
     ]
    },
    {
     "data": {
      "image/png": "[encoded data removed]",
      "text/plain": [
       "<Figure size 576x432 with 1 Axes>"
      ]
     },
     "metadata": {
      "needs_background": "light"
     },
     "output_type": "display_data"
    }
   ],
   "source": [
    "alpha = 0.5\n",
    "lambda_1 = 2\n",
    "lambda_2 = 1.5\n",
    "gamma = 1\n",
    "\n",
    "kernel = alpha**2 * kernels.ExpSquared(scale=lambda_1) * kernels.ExpSineSquared(scale=lambda_2, gamma=gamma)\n",
    "\n",
    "def plot_kernel(kernel, **kwargs):\n",
    "    dx = np.linspace(0, 5, 100)\n",
    "    plt.plot(dx, kernel(dx, dx[:1]), **kwargs)\n",
    "    plt.xlabel(\"dx\")\n",
    "    plt.ylabel(\"k(dx)\")\n",
    "\n",
    "plot_kernel(kernel)\n",
    "\n",
    "X = np.sort(np.random.default_rng(1).uniform(0, 10, 1000))\n",
    "\n",
    "gp = GaussianProcess(kernel, X, diag=1.e-3)\n",
    "\n",
    "fig, ax = plt.subplots(1,1,figsize=(8,6))\n",
    "y = gp.sample(jax.random.PRNGKey(4), shape=(5,))\n",
    "print(type(y))\n",
    "print(np.shape(y))\n",
    "ax.plot(X, y.T, color=\"k\", lw=0.5)\n",
    "ax.set_xlabel(\"x\")\n",
    "ax.set_ylabel(\"sampled observations\")\n",
    "ax.set_title(\"QP kernel\")\n",
    "plt.show()\n",
    "\n",
    "\n",
    "# test data to train a GP on, below\n",
    "test_t = X\n",
    "test_y = y[0]\n",
    "\n",
    "test_t_holdout = np.concatenate((test_t[0:100], test_t[200:800], test_t[900:]))\n",
    "test_y_holdout = np.concatenate((test_y[0:100], test_y[200:800], test_y[900:]))\n",
    "print(np.shape(test_t_holdout))\n",
    "print(np.shape(test_y_holdout))\n",
    "fig, ax = plt.subplots(1,1,figsize=(8,6))\n",
    "ax.plot(test_t, test_y,'k.')\n",
    "ax.plot(test_t_holdout, test_y_holdout,'r.')\n",
    "plt.show()"
   ]
  },
  {
   "cell_type": "code",
   "execution_count": 25,
   "id": "ac488a8b-c930-4418-b524-38efad399a1c",
   "metadata": {},
   "outputs": [],
   "source": [
    "def build_gp(theta, X):\n",
    "\n",
    "    # We want most of our parameters to be positive so we take the `exp` here\n",
    "    # Note that we're using `jnp` instead of `np`\n",
    "    amp = jnp.exp(theta[\"log_amp\"])\n",
    "    lambda1 = jnp.exp(theta[\"log_lambda1\"])\n",
    "    lambda2 = jnp.exp(theta[\"log_lambda2\"])\n",
    "    gamma = jnp.exp(theta[\"log_gamma\"])\n",
    "        \n",
    "    kernel = amp * kernels.ExpSquared(scale=lambda1) * kernels.ExpSineSquared(scale=lambda2, gamma=gamma)\n",
    "\n",
    "    return GaussianProcess(\n",
    "        kernel, X, diag=jnp.exp(theta[\"log_diag\"]), mean=theta[\"mean\"]\n",
    "    )\n",
    "\n",
    "\n",
    "def neg_log_likelihood(theta, X, y):\n",
    "    gp = build_gp(theta, X)\n",
    "    return -gp.log_probability(y)\n",
    "\n",
    "\n",
    "theta_init = {\n",
    "    \"mean\": np.float64(0.),\n",
    "    \"log_diag\": np.log(1.e-2),\n",
    "    \"log_amp\": np.log(1.0),\n",
    "    \"log_lambda1\": np.log(1.0),\n",
    "    \"log_lambda2\": np.log(1.0),\n",
    "    \"log_gamma\": np.log(1.0),\n",
    "}\n",
    "\n",
    "\n",
    "# `jax` can be used to differentiate functions, and also note that we're calling\n",
    "# `jax.jit` for the best performance.\n",
    "obj = jax.jit(jax.value_and_grad(neg_log_likelihood))\n",
    "\n",
    "#print(f\"Initial negative log likelihood: {obj(theta_init, test_t_holdout, test_y_holdout)[0]}\")\n",
    "#print(f\"Gradient of the negative log likelihood, wrt the parameters:\\n{obj(theta_init, test_t_holdout, test_y_holdout)[1]}\")"
   ]
  },
  {
   "cell_type": "code",
   "execution_count": 26,
   "id": "ed074eb3-bc76-4caa-9179-eb4b0e76d9ee",
   "metadata": {},
   "outputs": [
    {
     "name": "stdout",
     "output_type": "stream",
     "text": [
      "Final negative log likelihood: -1496.3627819115607\n"
     ]
    }
   ],
   "source": [
    "solver = jaxopt.ScipyMinimize(fun=neg_log_likelihood)\n",
    "soln = solver.run(theta_init, X=test_t_holdout, y=test_y_holdout)\n",
    "print(f\"Final negative log likelihood: {soln.state.fun_val}\")\n"
   ]
  },
  {
   "cell_type": "code",
   "execution_count": 29,
   "id": "8745a1d1-4a31-43b2-9c27-696f2f9f5573",
   "metadata": {},
   "outputs": [
    {
     "data": {
      "image/png": "[encoded data removed]",
      "text/plain": [
       "<Figure size 576x720 with 2 Axes>"
      ]
     },
     "metadata": {
      "needs_background": "light"
     },
     "output_type": "display_data"
    }
   ],
   "source": [
    "#print(np.shape(test_t))\n",
    "#print(np.shape(test_y))\n",
    "gp = build_gp(soln.params, test_t_holdout)\n",
    "cond_gp = gp.condition(test_y_holdout, test_t).gp\n",
    "mu, var = cond_gp.loc, cond_gp.variance\n",
    "\n",
    "fig, axes = plt.subplots(2,1,figsize=(8,10))\n",
    "axes[0].plot(test_t_holdout, test_y_holdout, \"k.\")\n",
    "axes[0].plot(test_t[100:200], test_y[100:200],\"r.\")\n",
    "axes[0].plot(test_t[800:900], test_y[800:900],\"r.\")\n",
    "\n",
    "axes[0].fill_between(\n",
    "    test_t, mu + np.sqrt(var), mu - np.sqrt(var), color=\"C0\", alpha=0.5\n",
    ")\n",
    "\n",
    "axes[0].plot(test_t, mu, color=\"C0\", lw=2)\n",
    "\n",
    "axes[1].plot(test_t, test_y - mu, color=\"C0\", lw=2)\n",
    "axes[1].fill_between(\n",
    "    test_t, test_y - mu + np.sqrt(var), test_y - mu - np.sqrt(var), color=\"C0\", alpha=0.5\n",
    ")\n",
    "axes[1].axhline(0,color='k',lw=2)\n",
    "\n",
    "for ax in axes:\n",
    "    ax.set_xlim(0,10)\n",
    "plt.show()\n"
   ]
  },
  {
   "cell_type": "code",
   "execution_count": null,
   "id": "f87f33d3-39f6-4977-8481-539cb7129200",
   "metadata": {},
   "outputs": [],
   "source": []
  },
  {
   "cell_type": "code",
   "execution_count": null,
   "id": "fcffcc45-b0b7-432e-9373-b79ceb597520",
   "metadata": {},
   "outputs": [],
   "source": []
  },
  {
   "cell_type": "markdown",
   "id": "9020894a-69cf-4a52-b3c9-b81d909aa464",
   "metadata": {},
   "source": [
    "### load in Rossler, transformed Rossler, Lorenz dimensions"
   ]
  },
  {
   "cell_type": "code",
   "execution_count": 43,
   "id": "fa65dbfb-d4c5-416a-919d-253d3f8e7ceb",
   "metadata": {},
   "outputs": [
    {
     "name": "stdout",
     "output_type": "stream",
     "text": [
      "162\n",
      "162\n",
      "183\n"
     ]
    }
   ],
   "source": [
    "rossler_x_C0 = ! ls ./corrDimTesting/rossler/cArrs/rossler_x_P*C0.npy\n",
    "rossler_y_C0 = ! ls ./corrDimTesting/rossler/cArrs/rossler_y_P*C0.npy\n",
    "rossler_z_C0 = ! ls ./corrDimTesting/rossler/cArrs/rossler_z_P*C0.npy\n",
    "rossler_C0 = list(rossler_x_C0) + list(rossler_y_C0) + list(rossler_z_C0)\n",
    "\n",
    "transformed_rossler_x_C0 = ! ls ./corrDimTesting/transformed_rossler/cArrs/transformed_rossler_x_P*C0.npy\n",
    "transformed_rossler_y_C0 = ! ls ./corrDimTesting/transformed_rossler/cArrs/transformed_rossler_y_P*C0.npy\n",
    "transformed_rossler_z_C0 = ! ls ./corrDimTesting/transformed_rossler/cArrs/transformed_rossler_z_P*C0.npy\n",
    "transformed_rossler_C0 = list(transformed_rossler_x_C0) + list(transformed_rossler_y_C0) + list(transformed_rossler_z_C0)\n",
    "\n",
    "lorenz_x_C0 = ! ls ./corrDimTesting/lorenz/cArrs/lorenz_x_P*C0.npy\n",
    "lorenz_y_C0 = ! ls ./corrDimTesting/lorenz/cArrs/lorenz_y_P*C0.npy\n",
    "lorenz_z_C0 = ! ls ./corrDimTesting/lorenz/cArrs/lorenz_z_P*C0.npy\n",
    "lorenz_C0 = list(lorenz_x_C0) + list(lorenz_y_C0) + list(lorenz_z_C0)\n",
    "\n",
    "print(len(rossler_C0))\n",
    "print(len(transformed_rossler_C0))\n",
    "print(len(lorenz_C0))"
   ]
  },
  {
   "cell_type": "code",
   "execution_count": null,
   "id": "52949215-0a62-4bdd-b9ee-e41924fb8dee",
   "metadata": {},
   "outputs": [],
   "source": []
  },
  {
   "cell_type": "markdown",
   "id": "493a46b9-50c2-4fd0-a09b-39dcf7472003",
   "metadata": {},
   "source": [
    "### Plot dimension comparisons"
   ]
  },
  {
   "cell_type": "code",
   "execution_count": null,
   "id": "00d6ba6b-d1b8-4a45-9af1-11ad4aa6111a",
   "metadata": {},
   "outputs": [
    {
     "name": "stderr",
     "output_type": "stream",
     "text": [
      "/Users/Emily/anaconda3/lib/python3.7/site-packages/ipykernel_launcher.py:53: RuntimeWarning: invalid value encountered in greater\n",
      "/Users/Emily/anaconda3/lib/python3.7/site-packages/ipykernel_launcher.py:54: RuntimeWarning: invalid value encountered in greater\n"
     ]
    },
    {
     "name": "stdout",
     "output_type": "stream",
     "text": [
      "\n",
      "Additional non-data files were created\n",
      "\tNonsilent mode chosen, displaying additional content:\n",
      "\n",
      "File outFile.stat contains:\n",
      "Center points treated so far= 957\n",
      "Maximal epsilon in the moment= 2.058961e+01\n",
      "\n"
     ]
    },
    {
     "name": "stderr",
     "output_type": "stream",
     "text": [
      "/Users/Emily/anaconda3/lib/python3.7/site-packages/ipykernel_launcher.py:53: RuntimeWarning: invalid value encountered in greater\n",
      "/Users/Emily/anaconda3/lib/python3.7/site-packages/ipykernel_launcher.py:54: RuntimeWarning: invalid value encountered in greater\n"
     ]
    },
    {
     "name": "stdout",
     "output_type": "stream",
     "text": [
      "\n",
      "Additional non-data files were created\n",
      "\tNonsilent mode chosen, displaying additional content:\n",
      "\n",
      "File outFile.stat contains:\n",
      "Center points treated so far= 936\n",
      "Maximal epsilon in the moment= 2.058961e+01\n",
      "\n"
     ]
    },
    {
     "name": "stderr",
     "output_type": "stream",
     "text": [
      "/Users/Emily/anaconda3/lib/python3.7/site-packages/ipykernel_launcher.py:53: RuntimeWarning: invalid value encountered in greater\n",
      "/Users/Emily/anaconda3/lib/python3.7/site-packages/ipykernel_launcher.py:54: RuntimeWarning: invalid value encountered in greater\n"
     ]
    },
    {
     "name": "stdout",
     "output_type": "stream",
     "text": [
      "\n",
      "Additional non-data files were created\n",
      "\tNonsilent mode chosen, displaying additional content:\n",
      "\n",
      "File outFile.stat contains:\n",
      "Center points treated so far= 957\n",
      "Maximal epsilon in the moment= 2.453053e+01\n",
      "\n"
     ]
    },
    {
     "name": "stderr",
     "output_type": "stream",
     "text": [
      "/Users/Emily/anaconda3/lib/python3.7/site-packages/ipykernel_launcher.py:53: RuntimeWarning: invalid value encountered in greater\n",
      "/Users/Emily/anaconda3/lib/python3.7/site-packages/ipykernel_launcher.py:54: RuntimeWarning: invalid value encountered in greater\n"
     ]
    },
    {
     "name": "stdout",
     "output_type": "stream",
     "text": [
      "\n",
      "Additional non-data files were created\n",
      "\tNonsilent mode chosen, displaying additional content:\n",
      "\n",
      "File outFile.stat contains:\n",
      "Center points treated so far= 936\n",
      "Maximal epsilon in the moment= 2.453053e+01\n",
      "\n"
     ]
    },
    {
     "name": "stderr",
     "output_type": "stream",
     "text": [
      "/Users/Emily/anaconda3/lib/python3.7/site-packages/ipykernel_launcher.py:53: RuntimeWarning: invalid value encountered in greater\n",
      "/Users/Emily/anaconda3/lib/python3.7/site-packages/ipykernel_launcher.py:54: RuntimeWarning: invalid value encountered in greater\n"
     ]
    },
    {
     "name": "stdout",
     "output_type": "stream",
     "text": [
      "\n",
      "Additional non-data files were created\n",
      "\tNonsilent mode chosen, displaying additional content:\n",
      "\n",
      "File outFile.stat contains:\n",
      "Center points treated so far= 951\n",
      "Maximal epsilon in the moment= 2.417123e+01\n",
      "\n"
     ]
    },
    {
     "name": "stderr",
     "output_type": "stream",
     "text": [
      "/Users/Emily/anaconda3/lib/python3.7/site-packages/ipykernel_launcher.py:53: RuntimeWarning: invalid value encountered in greater\n",
      "/Users/Emily/anaconda3/lib/python3.7/site-packages/ipykernel_launcher.py:54: RuntimeWarning: invalid value encountered in greater\n"
     ]
    },
    {
     "name": "stdout",
     "output_type": "stream",
     "text": [
      "\n",
      "Additional non-data files were created\n",
      "\tNonsilent mode chosen, displaying additional content:\n",
      "\n",
      "File outFile.stat contains:\n",
      "Center points treated so far= 927\n",
      "Maximal epsilon in the moment= 2.417123e+01\n",
      "\n"
     ]
    },
    {
     "name": "stderr",
     "output_type": "stream",
     "text": [
      "/Users/Emily/anaconda3/lib/python3.7/site-packages/ipykernel_launcher.py:53: RuntimeWarning: invalid value encountered in greater\n",
      "/Users/Emily/anaconda3/lib/python3.7/site-packages/ipykernel_launcher.py:54: RuntimeWarning: invalid value encountered in greater\n"
     ]
    },
    {
     "name": "stdout",
     "output_type": "stream",
     "text": [
      "\n",
      "Additional non-data files were created\n",
      "\tNonsilent mode chosen, displaying additional content:\n",
      "\n",
      "File outFile.stat contains:\n",
      "Center points treated so far= 4953\n",
      "Maximal epsilon in the moment= 2.447016e+01\n",
      "\n"
     ]
    },
    {
     "name": "stderr",
     "output_type": "stream",
     "text": [
      "/Users/Emily/anaconda3/lib/python3.7/site-packages/ipykernel_launcher.py:53: RuntimeWarning: invalid value encountered in greater\n",
      "/Users/Emily/anaconda3/lib/python3.7/site-packages/ipykernel_launcher.py:54: RuntimeWarning: invalid value encountered in greater\n"
     ]
    },
    {
     "name": "stdout",
     "output_type": "stream",
     "text": [
      "\n",
      "Additional non-data files were created\n",
      "\tNonsilent mode chosen, displaying additional content:\n",
      "\n",
      "File outFile.stat contains:\n",
      "Center points treated so far= 4930\n",
      "Maximal epsilon in the moment= 2.447016e+01\n",
      "\n"
     ]
    },
    {
     "name": "stderr",
     "output_type": "stream",
     "text": [
      "/Users/Emily/anaconda3/lib/python3.7/site-packages/ipykernel_launcher.py:53: RuntimeWarning: invalid value encountered in greater\n",
      "/Users/Emily/anaconda3/lib/python3.7/site-packages/ipykernel_launcher.py:54: RuntimeWarning: invalid value encountered in greater\n"
     ]
    },
    {
     "name": "stdout",
     "output_type": "stream",
     "text": [
      "\n",
      "Additional non-data files were created\n",
      "\tNonsilent mode chosen, displaying additional content:\n",
      "\n",
      "File outFile.stat contains:\n",
      "Center points treated so far= 4955\n",
      "Maximal epsilon in the moment= 2.439542e+01\n",
      "\n"
     ]
    },
    {
     "name": "stderr",
     "output_type": "stream",
     "text": [
      "/Users/Emily/anaconda3/lib/python3.7/site-packages/ipykernel_launcher.py:53: RuntimeWarning: invalid value encountered in greater\n",
      "/Users/Emily/anaconda3/lib/python3.7/site-packages/ipykernel_launcher.py:54: RuntimeWarning: invalid value encountered in greater\n"
     ]
    },
    {
     "name": "stdout",
     "output_type": "stream",
     "text": [
      "\n",
      "Additional non-data files were created\n",
      "\tNonsilent mode chosen, displaying additional content:\n",
      "\n",
      "File outFile.stat contains:\n",
      "Center points treated so far= 4933\n",
      "Maximal epsilon in the moment= 2.439542e+01\n",
      "\n"
     ]
    },
    {
     "name": "stderr",
     "output_type": "stream",
     "text": [
      "/Users/Emily/anaconda3/lib/python3.7/site-packages/ipykernel_launcher.py:53: RuntimeWarning: invalid value encountered in greater\n",
      "/Users/Emily/anaconda3/lib/python3.7/site-packages/ipykernel_launcher.py:54: RuntimeWarning: invalid value encountered in greater\n"
     ]
    },
    {
     "name": "stdout",
     "output_type": "stream",
     "text": [
      "\n",
      "Additional non-data files were created\n",
      "\tNonsilent mode chosen, displaying additional content:\n",
      "\n",
      "File outFile.stat contains:\n",
      "Center points treated so far= 4955\n",
      "Maximal epsilon in the moment= 2.439916e+01\n",
      "\n"
     ]
    },
    {
     "name": "stderr",
     "output_type": "stream",
     "text": [
      "/Users/Emily/anaconda3/lib/python3.7/site-packages/ipykernel_launcher.py:53: RuntimeWarning: invalid value encountered in greater\n",
      "/Users/Emily/anaconda3/lib/python3.7/site-packages/ipykernel_launcher.py:54: RuntimeWarning: invalid value encountered in greater\n"
     ]
    },
    {
     "name": "stdout",
     "output_type": "stream",
     "text": [
      "\n",
      "Additional non-data files were created\n",
      "\tNonsilent mode chosen, displaying additional content:\n",
      "\n",
      "File outFile.stat contains:\n",
      "Center points treated so far= 4933\n",
      "Maximal epsilon in the moment= 2.439916e+01\n",
      "\n"
     ]
    },
    {
     "name": "stderr",
     "output_type": "stream",
     "text": [
      "/Users/Emily/anaconda3/lib/python3.7/site-packages/ipykernel_launcher.py:53: RuntimeWarning: invalid value encountered in greater\n",
      "/Users/Emily/anaconda3/lib/python3.7/site-packages/ipykernel_launcher.py:54: RuntimeWarning: invalid value encountered in greater\n"
     ]
    },
    {
     "name": "stdout",
     "output_type": "stream",
     "text": [
      "\n",
      "Additional non-data files were created\n",
      "\tNonsilent mode chosen, displaying additional content:\n",
      "\n",
      "File outFile.stat contains:\n",
      "Center points treated so far= 433\n",
      "Maximal epsilon in the moment= 2.434025e+01\n",
      "\n"
     ]
    },
    {
     "name": "stderr",
     "output_type": "stream",
     "text": [
      "/Users/Emily/anaconda3/lib/python3.7/site-packages/ipykernel_launcher.py:53: RuntimeWarning: invalid value encountered in greater\n",
      "/Users/Emily/anaconda3/lib/python3.7/site-packages/ipykernel_launcher.py:54: RuntimeWarning: invalid value encountered in greater\n"
     ]
    },
    {
     "name": "stdout",
     "output_type": "stream",
     "text": [
      "\n",
      "Additional non-data files were created\n",
      "\tNonsilent mode chosen, displaying additional content:\n",
      "\n",
      "File outFile.stat contains:\n",
      "Center points treated so far= 411\n",
      "Maximal epsilon in the moment= 2.434025e+01\n",
      "\n"
     ]
    },
    {
     "name": "stderr",
     "output_type": "stream",
     "text": [
      "/Users/Emily/anaconda3/lib/python3.7/site-packages/ipykernel_launcher.py:53: RuntimeWarning: invalid value encountered in greater\n",
      "/Users/Emily/anaconda3/lib/python3.7/site-packages/ipykernel_launcher.py:54: RuntimeWarning: invalid value encountered in greater\n"
     ]
    },
    {
     "name": "stdout",
     "output_type": "stream",
     "text": [
      "\n",
      "Additional non-data files were created\n",
      "\tNonsilent mode chosen, displaying additional content:\n",
      "\n",
      "File outFile.stat contains:\n",
      "Center points treated so far= 441\n",
      "Maximal epsilon in the moment= 2.379768e+01\n",
      "\n"
     ]
    },
    {
     "name": "stderr",
     "output_type": "stream",
     "text": [
      "/Users/Emily/anaconda3/lib/python3.7/site-packages/ipykernel_launcher.py:53: RuntimeWarning: invalid value encountered in greater\n",
      "/Users/Emily/anaconda3/lib/python3.7/site-packages/ipykernel_launcher.py:54: RuntimeWarning: invalid value encountered in greater\n"
     ]
    },
    {
     "name": "stdout",
     "output_type": "stream",
     "text": [
      "\n",
      "Additional non-data files were created\n",
      "\tNonsilent mode chosen, displaying additional content:\n",
      "\n",
      "File outFile.stat contains:\n",
      "Center points treated so far= 412\n",
      "Maximal epsilon in the moment= 2.379768e+01\n",
      "\n"
     ]
    },
    {
     "name": "stderr",
     "output_type": "stream",
     "text": [
      "/Users/Emily/anaconda3/lib/python3.7/site-packages/ipykernel_launcher.py:53: RuntimeWarning: invalid value encountered in greater\n",
      "/Users/Emily/anaconda3/lib/python3.7/site-packages/ipykernel_launcher.py:54: RuntimeWarning: invalid value encountered in greater\n"
     ]
    },
    {
     "name": "stdout",
     "output_type": "stream",
     "text": [
      "\n",
      "Additional non-data files were created\n",
      "\tNonsilent mode chosen, displaying additional content:\n",
      "\n",
      "File outFile.stat contains:\n",
      "Center points treated so far= 457\n",
      "Maximal epsilon in the moment= 2.428190e+01\n",
      "\n"
     ]
    },
    {
     "name": "stderr",
     "output_type": "stream",
     "text": [
      "/Users/Emily/anaconda3/lib/python3.7/site-packages/ipykernel_launcher.py:53: RuntimeWarning: invalid value encountered in greater\n",
      "/Users/Emily/anaconda3/lib/python3.7/site-packages/ipykernel_launcher.py:54: RuntimeWarning: invalid value encountered in greater\n"
     ]
    },
    {
     "name": "stdout",
     "output_type": "stream",
     "text": [
      "\n",
      "Additional non-data files were created\n",
      "\tNonsilent mode chosen, displaying additional content:\n",
      "\n",
      "File outFile.stat contains:\n",
      "Center points treated so far= 436\n",
      "Maximal epsilon in the moment= 2.428190e+01\n",
      "\n"
     ]
    },
    {
     "name": "stderr",
     "output_type": "stream",
     "text": [
      "/Users/Emily/anaconda3/lib/python3.7/site-packages/ipykernel_launcher.py:53: RuntimeWarning: invalid value encountered in greater\n",
      "/Users/Emily/anaconda3/lib/python3.7/site-packages/ipykernel_launcher.py:54: RuntimeWarning: invalid value encountered in greater\n"
     ]
    },
    {
     "name": "stdout",
     "output_type": "stream",
     "text": [
      "\n",
      "Additional non-data files were created\n",
      "\tNonsilent mode chosen, displaying additional content:\n",
      "\n",
      "File outFile.stat contains:\n",
      "Center points treated so far= 475\n",
      "Maximal epsilon in the moment= 2.058417e+01\n",
      "\n"
     ]
    },
    {
     "name": "stderr",
     "output_type": "stream",
     "text": [
      "/Users/Emily/anaconda3/lib/python3.7/site-packages/ipykernel_launcher.py:53: RuntimeWarning: invalid value encountered in greater\n",
      "/Users/Emily/anaconda3/lib/python3.7/site-packages/ipykernel_launcher.py:54: RuntimeWarning: invalid value encountered in greater\n"
     ]
    },
    {
     "name": "stdout",
     "output_type": "stream",
     "text": [
      "\n",
      "Additional non-data files were created\n",
      "\tNonsilent mode chosen, displaying additional content:\n",
      "\n",
      "File outFile.stat contains:\n",
      "Center points treated so far= 463\n",
      "Maximal epsilon in the moment= 2.058417e+01\n",
      "\n"
     ]
    },
    {
     "name": "stderr",
     "output_type": "stream",
     "text": [
      "/Users/Emily/anaconda3/lib/python3.7/site-packages/ipykernel_launcher.py:53: RuntimeWarning: invalid value encountered in greater\n",
      "/Users/Emily/anaconda3/lib/python3.7/site-packages/ipykernel_launcher.py:54: RuntimeWarning: invalid value encountered in greater\n"
     ]
    },
    {
     "name": "stdout",
     "output_type": "stream",
     "text": [
      "\n",
      "Additional non-data files were created\n",
      "\tNonsilent mode chosen, displaying additional content:\n",
      "\n",
      "File outFile.stat contains:\n",
      "Center points treated so far= 466\n",
      "Maximal epsilon in the moment= 2.400320e+01\n",
      "\n"
     ]
    },
    {
     "name": "stderr",
     "output_type": "stream",
     "text": [
      "/Users/Emily/anaconda3/lib/python3.7/site-packages/ipykernel_launcher.py:53: RuntimeWarning: invalid value encountered in greater\n",
      "/Users/Emily/anaconda3/lib/python3.7/site-packages/ipykernel_launcher.py:54: RuntimeWarning: invalid value encountered in greater\n"
     ]
    },
    {
     "name": "stdout",
     "output_type": "stream",
     "text": [
      "\n",
      "Additional non-data files were created\n",
      "\tNonsilent mode chosen, displaying additional content:\n",
      "\n",
      "File outFile.stat contains:\n",
      "Center points treated so far= 455\n",
      "Maximal epsilon in the moment= 2.400320e+01\n",
      "\n"
     ]
    },
    {
     "name": "stderr",
     "output_type": "stream",
     "text": [
      "/Users/Emily/anaconda3/lib/python3.7/site-packages/ipykernel_launcher.py:53: RuntimeWarning: invalid value encountered in greater\n",
      "/Users/Emily/anaconda3/lib/python3.7/site-packages/ipykernel_launcher.py:54: RuntimeWarning: invalid value encountered in greater\n"
     ]
    },
    {
     "name": "stdout",
     "output_type": "stream",
     "text": [
      "\n",
      "Additional non-data files were created\n",
      "\tNonsilent mode chosen, displaying additional content:\n",
      "\n",
      "File outFile.stat contains:\n",
      "Center points treated so far= 477\n",
      "Maximal epsilon in the moment= 2.408036e+01\n",
      "\n"
     ]
    },
    {
     "name": "stderr",
     "output_type": "stream",
     "text": [
      "/Users/Emily/anaconda3/lib/python3.7/site-packages/ipykernel_launcher.py:53: RuntimeWarning: invalid value encountered in greater\n",
      "/Users/Emily/anaconda3/lib/python3.7/site-packages/ipykernel_launcher.py:54: RuntimeWarning: invalid value encountered in greater\n"
     ]
    },
    {
     "name": "stdout",
     "output_type": "stream",
     "text": [
      "\n",
      "Additional non-data files were created\n",
      "\tNonsilent mode chosen, displaying additional content:\n",
      "\n",
      "File outFile.stat contains:\n",
      "Center points treated so far= 466\n",
      "Maximal epsilon in the moment= 2.408036e+01\n",
      "\n"
     ]
    },
    {
     "name": "stderr",
     "output_type": "stream",
     "text": [
      "/Users/Emily/anaconda3/lib/python3.7/site-packages/ipykernel_launcher.py:53: RuntimeWarning: invalid value encountered in greater\n",
      "/Users/Emily/anaconda3/lib/python3.7/site-packages/ipykernel_launcher.py:54: RuntimeWarning: invalid value encountered in greater\n"
     ]
    },
    {
     "name": "stdout",
     "output_type": "stream",
     "text": [
      "\n",
      "Additional non-data files were created\n",
      "\tNonsilent mode chosen, displaying additional content:\n",
      "\n",
      "File outFile.stat contains:\n",
      "Center points treated so far= 2479\n",
      "Maximal epsilon in the moment= 2.436608e+01\n",
      "\n"
     ]
    },
    {
     "name": "stderr",
     "output_type": "stream",
     "text": [
      "/Users/Emily/anaconda3/lib/python3.7/site-packages/ipykernel_launcher.py:53: RuntimeWarning: invalid value encountered in greater\n",
      "/Users/Emily/anaconda3/lib/python3.7/site-packages/ipykernel_launcher.py:54: RuntimeWarning: invalid value encountered in greater\n"
     ]
    },
    {
     "name": "stdout",
     "output_type": "stream",
     "text": [
      "\n",
      "Additional non-data files were created\n",
      "\tNonsilent mode chosen, displaying additional content:\n",
      "\n",
      "File outFile.stat contains:\n",
      "Center points treated so far= 2469\n",
      "Maximal epsilon in the moment= 2.436608e+01\n",
      "\n"
     ]
    },
    {
     "name": "stderr",
     "output_type": "stream",
     "text": [
      "/Users/Emily/anaconda3/lib/python3.7/site-packages/ipykernel_launcher.py:53: RuntimeWarning: invalid value encountered in greater\n",
      "/Users/Emily/anaconda3/lib/python3.7/site-packages/ipykernel_launcher.py:54: RuntimeWarning: invalid value encountered in greater\n"
     ]
    },
    {
     "name": "stdout",
     "output_type": "stream",
     "text": [
      "\n",
      "Additional non-data files were created\n",
      "\tNonsilent mode chosen, displaying additional content:\n",
      "\n",
      "File outFile.stat contains:\n",
      "Center points treated so far= 2479\n",
      "Maximal epsilon in the moment= 2.426832e+01\n",
      "\n"
     ]
    },
    {
     "name": "stderr",
     "output_type": "stream",
     "text": [
      "/Users/Emily/anaconda3/lib/python3.7/site-packages/ipykernel_launcher.py:53: RuntimeWarning: invalid value encountered in greater\n",
      "/Users/Emily/anaconda3/lib/python3.7/site-packages/ipykernel_launcher.py:54: RuntimeWarning: invalid value encountered in greater\n"
     ]
    },
    {
     "name": "stdout",
     "output_type": "stream",
     "text": [
      "\n",
      "Additional non-data files were created\n",
      "\tNonsilent mode chosen, displaying additional content:\n",
      "\n",
      "File outFile.stat contains:\n",
      "Center points treated so far= 2469\n",
      "Maximal epsilon in the moment= 2.426832e+01\n",
      "\n"
     ]
    },
    {
     "name": "stderr",
     "output_type": "stream",
     "text": [
      "/Users/Emily/anaconda3/lib/python3.7/site-packages/ipykernel_launcher.py:53: RuntimeWarning: invalid value encountered in greater\n",
      "/Users/Emily/anaconda3/lib/python3.7/site-packages/ipykernel_launcher.py:54: RuntimeWarning: invalid value encountered in greater\n"
     ]
    },
    {
     "name": "stdout",
     "output_type": "stream",
     "text": [
      "\n",
      "Additional non-data files were created\n",
      "\tNonsilent mode chosen, displaying additional content:\n",
      "\n",
      "File outFile.stat contains:\n",
      "Center points treated so far= 2477\n",
      "Maximal epsilon in the moment= 2.439916e+01\n",
      "\n"
     ]
    },
    {
     "name": "stderr",
     "output_type": "stream",
     "text": [
      "/Users/Emily/anaconda3/lib/python3.7/site-packages/ipykernel_launcher.py:53: RuntimeWarning: invalid value encountered in greater\n",
      "/Users/Emily/anaconda3/lib/python3.7/site-packages/ipykernel_launcher.py:54: RuntimeWarning: invalid value encountered in greater\n"
     ]
    },
    {
     "name": "stdout",
     "output_type": "stream",
     "text": [
      "\n",
      "Additional non-data files were created\n",
      "\tNonsilent mode chosen, displaying additional content:\n",
      "\n",
      "File outFile.stat contains:\n",
      "Center points treated so far= 2466\n",
      "Maximal epsilon in the moment= 2.439916e+01\n",
      "\n"
     ]
    },
    {
     "name": "stderr",
     "output_type": "stream",
     "text": [
      "/Users/Emily/anaconda3/lib/python3.7/site-packages/ipykernel_launcher.py:53: RuntimeWarning: invalid value encountered in greater\n",
      "/Users/Emily/anaconda3/lib/python3.7/site-packages/ipykernel_launcher.py:54: RuntimeWarning: invalid value encountered in greater\n"
     ]
    },
    {
     "name": "stdout",
     "output_type": "stream",
     "text": [
      "\n",
      "Additional non-data files were created\n",
      "\tNonsilent mode chosen, displaying additional content:\n",
      "\n",
      "File outFile.stat contains:\n",
      "Center points treated so far= 223\n",
      "Maximal epsilon in the moment= 2.432586e+01\n",
      "\n"
     ]
    },
    {
     "name": "stderr",
     "output_type": "stream",
     "text": [
      "/Users/Emily/anaconda3/lib/python3.7/site-packages/ipykernel_launcher.py:53: RuntimeWarning: invalid value encountered in greater\n",
      "/Users/Emily/anaconda3/lib/python3.7/site-packages/ipykernel_launcher.py:54: RuntimeWarning: invalid value encountered in greater\n"
     ]
    },
    {
     "name": "stdout",
     "output_type": "stream",
     "text": [
      "\n",
      "Additional non-data files were created\n",
      "\tNonsilent mode chosen, displaying additional content:\n",
      "\n",
      "File outFile.stat contains:\n",
      "Center points treated so far= 210\n",
      "Maximal epsilon in the moment= 2.432586e+01\n",
      "\n"
     ]
    },
    {
     "name": "stderr",
     "output_type": "stream",
     "text": [
      "/Users/Emily/anaconda3/lib/python3.7/site-packages/ipykernel_launcher.py:53: RuntimeWarning: invalid value encountered in greater\n",
      "/Users/Emily/anaconda3/lib/python3.7/site-packages/ipykernel_launcher.py:54: RuntimeWarning: invalid value encountered in greater\n"
     ]
    },
    {
     "name": "stdout",
     "output_type": "stream",
     "text": [
      "\n",
      "Additional non-data files were created\n",
      "\tNonsilent mode chosen, displaying additional content:\n",
      "\n",
      "File outFile.stat contains:\n",
      "Center points treated so far= 216\n",
      "Maximal epsilon in the moment= 2.316121e+01\n",
      "\n"
     ]
    },
    {
     "name": "stderr",
     "output_type": "stream",
     "text": [
      "/Users/Emily/anaconda3/lib/python3.7/site-packages/ipykernel_launcher.py:53: RuntimeWarning: invalid value encountered in greater\n",
      "/Users/Emily/anaconda3/lib/python3.7/site-packages/ipykernel_launcher.py:54: RuntimeWarning: invalid value encountered in greater\n"
     ]
    },
    {
     "name": "stdout",
     "output_type": "stream",
     "text": [
      "\n",
      "Additional non-data files were created\n",
      "\tNonsilent mode chosen, displaying additional content:\n",
      "\n",
      "File outFile.stat contains:\n",
      "Center points treated so far= 205\n",
      "Maximal epsilon in the moment= 2.316121e+01\n",
      "\n"
     ]
    },
    {
     "name": "stderr",
     "output_type": "stream",
     "text": [
      "/Users/Emily/anaconda3/lib/python3.7/site-packages/ipykernel_launcher.py:53: RuntimeWarning: invalid value encountered in greater\n",
      "/Users/Emily/anaconda3/lib/python3.7/site-packages/ipykernel_launcher.py:54: RuntimeWarning: invalid value encountered in greater\n"
     ]
    },
    {
     "name": "stdout",
     "output_type": "stream",
     "text": [
      "\n",
      "Additional non-data files were created\n",
      "\tNonsilent mode chosen, displaying additional content:\n",
      "\n",
      "File outFile.stat contains:\n",
      "Center points treated so far= 219\n",
      "Maximal epsilon in the moment= 2.393344e+01\n",
      "\n"
     ]
    },
    {
     "name": "stderr",
     "output_type": "stream",
     "text": [
      "/Users/Emily/anaconda3/lib/python3.7/site-packages/ipykernel_launcher.py:53: RuntimeWarning: invalid value encountered in greater\n",
      "/Users/Emily/anaconda3/lib/python3.7/site-packages/ipykernel_launcher.py:54: RuntimeWarning: invalid value encountered in greater\n"
     ]
    },
    {
     "name": "stdout",
     "output_type": "stream",
     "text": [
      "\n",
      "Additional non-data files were created\n",
      "\tNonsilent mode chosen, displaying additional content:\n",
      "\n",
      "File outFile.stat contains:\n",
      "Center points treated so far= 209\n",
      "Maximal epsilon in the moment= 2.393344e+01\n",
      "\n"
     ]
    },
    {
     "name": "stderr",
     "output_type": "stream",
     "text": [
      "/Users/Emily/anaconda3/lib/python3.7/site-packages/ipykernel_launcher.py:53: RuntimeWarning: invalid value encountered in greater\n",
      "/Users/Emily/anaconda3/lib/python3.7/site-packages/ipykernel_launcher.py:54: RuntimeWarning: invalid value encountered in greater\n"
     ]
    },
    {
     "name": "stdout",
     "output_type": "stream",
     "text": [
      "\n",
      "Additional non-data files were created\n",
      "\tNonsilent mode chosen, displaying additional content:\n",
      "\n",
      "File outFile.stat contains:\n",
      "Center points treated so far= 96\n",
      "Maximal epsilon in the moment= 2.037398e+01\n",
      "\n"
     ]
    },
    {
     "name": "stderr",
     "output_type": "stream",
     "text": [
      "/Users/Emily/anaconda3/lib/python3.7/site-packages/ipykernel_launcher.py:53: RuntimeWarning: invalid value encountered in greater\n",
      "/Users/Emily/anaconda3/lib/python3.7/site-packages/ipykernel_launcher.py:54: RuntimeWarning: invalid value encountered in greater\n"
     ]
    },
    {
     "name": "stdout",
     "output_type": "stream",
     "text": [
      "\n",
      "Additional non-data files were created\n",
      "\tNonsilent mode chosen, displaying additional content:\n",
      "\n",
      "File outFile.stat contains:\n",
      "Center points treated so far= 95\n",
      "Maximal epsilon in the moment= 2.037398e+01\n",
      "\n"
     ]
    },
    {
     "name": "stderr",
     "output_type": "stream",
     "text": [
      "/Users/Emily/anaconda3/lib/python3.7/site-packages/ipykernel_launcher.py:79: RuntimeWarning: divide by zero encountered in log10\n",
      "/Users/Emily/anaconda3/lib/python3.7/site-packages/ipykernel_launcher.py:53: RuntimeWarning: invalid value encountered in greater\n",
      "/Users/Emily/anaconda3/lib/python3.7/site-packages/ipykernel_launcher.py:54: RuntimeWarning: invalid value encountered in greater\n"
     ]
    },
    {
     "name": "stdout",
     "output_type": "stream",
     "text": [
      "\n",
      "Additional non-data files were created\n",
      "\tNonsilent mode chosen, displaying additional content:\n",
      "\n",
      "File outFile.stat contains:\n",
      "Center points treated so far= 81\n",
      "Maximal epsilon in the moment= 1.811925e+01\n",
      "\n"
     ]
    },
    {
     "name": "stderr",
     "output_type": "stream",
     "text": [
      "/Users/Emily/anaconda3/lib/python3.7/site-packages/ipykernel_launcher.py:79: RuntimeWarning: divide by zero encountered in log10\n",
      "/Users/Emily/anaconda3/lib/python3.7/site-packages/ipykernel_launcher.py:53: RuntimeWarning: invalid value encountered in greater\n",
      "/Users/Emily/anaconda3/lib/python3.7/site-packages/ipykernel_launcher.py:54: RuntimeWarning: invalid value encountered in greater\n"
     ]
    },
    {
     "name": "stdout",
     "output_type": "stream",
     "text": [
      "\n",
      "Additional non-data files were created\n",
      "\tNonsilent mode chosen, displaying additional content:\n",
      "\n",
      "File outFile.stat contains:\n",
      "Center points treated so far= 75\n",
      "Maximal epsilon in the moment= 1.811925e+01\n",
      "\n"
     ]
    },
    {
     "name": "stderr",
     "output_type": "stream",
     "text": [
      "/Users/Emily/anaconda3/lib/python3.7/site-packages/ipykernel_launcher.py:79: RuntimeWarning: divide by zero encountered in log10\n",
      "/Users/Emily/anaconda3/lib/python3.7/site-packages/ipykernel_launcher.py:53: RuntimeWarning: invalid value encountered in greater\n",
      "/Users/Emily/anaconda3/lib/python3.7/site-packages/ipykernel_launcher.py:54: RuntimeWarning: invalid value encountered in greater\n"
     ]
    },
    {
     "name": "stdout",
     "output_type": "stream",
     "text": [
      "\n",
      "Additional non-data files were created\n",
      "\tNonsilent mode chosen, displaying additional content:\n",
      "\n",
      "File outFile.stat contains:\n",
      "Center points treated so far= 97\n",
      "Maximal epsilon in the moment= 2.028467e+01\n",
      "\n"
     ]
    },
    {
     "name": "stderr",
     "output_type": "stream",
     "text": [
      "/Users/Emily/anaconda3/lib/python3.7/site-packages/ipykernel_launcher.py:53: RuntimeWarning: invalid value encountered in greater\n",
      "/Users/Emily/anaconda3/lib/python3.7/site-packages/ipykernel_launcher.py:54: RuntimeWarning: invalid value encountered in greater\n"
     ]
    },
    {
     "name": "stdout",
     "output_type": "stream",
     "text": [
      "\n",
      "Additional non-data files were created\n",
      "\tNonsilent mode chosen, displaying additional content:\n",
      "\n",
      "File outFile.stat contains:\n",
      "Center points treated so far= 96\n",
      "Maximal epsilon in the moment= 2.028467e+01\n",
      "\n"
     ]
    },
    {
     "name": "stderr",
     "output_type": "stream",
     "text": [
      "/Users/Emily/anaconda3/lib/python3.7/site-packages/ipykernel_launcher.py:53: RuntimeWarning: invalid value encountered in greater\n",
      "/Users/Emily/anaconda3/lib/python3.7/site-packages/ipykernel_launcher.py:54: RuntimeWarning: invalid value encountered in greater\n"
     ]
    },
    {
     "name": "stdout",
     "output_type": "stream",
     "text": [
      "\n",
      "Additional non-data files were created\n",
      "\tNonsilent mode chosen, displaying additional content:\n",
      "\n",
      "File outFile.stat contains:\n",
      "Center points treated so far= 496\n",
      "Maximal epsilon in the moment= 2.433683e+01\n",
      "\n"
     ]
    },
    {
     "name": "stderr",
     "output_type": "stream",
     "text": [
      "/Users/Emily/anaconda3/lib/python3.7/site-packages/ipykernel_launcher.py:53: RuntimeWarning: invalid value encountered in greater\n",
      "/Users/Emily/anaconda3/lib/python3.7/site-packages/ipykernel_launcher.py:54: RuntimeWarning: invalid value encountered in greater\n"
     ]
    },
    {
     "name": "stdout",
     "output_type": "stream",
     "text": [
      "\n",
      "Additional non-data files were created\n",
      "\tNonsilent mode chosen, displaying additional content:\n",
      "\n",
      "File outFile.stat contains:\n",
      "Center points treated so far= 495\n",
      "Maximal epsilon in the moment= 2.433683e+01\n",
      "\n"
     ]
    },
    {
     "name": "stderr",
     "output_type": "stream",
     "text": [
      "/Users/Emily/anaconda3/lib/python3.7/site-packages/ipykernel_launcher.py:53: RuntimeWarning: invalid value encountered in greater\n",
      "/Users/Emily/anaconda3/lib/python3.7/site-packages/ipykernel_launcher.py:54: RuntimeWarning: invalid value encountered in greater\n"
     ]
    },
    {
     "name": "stdout",
     "output_type": "stream",
     "text": [
      "\n",
      "Additional non-data files were created\n",
      "\tNonsilent mode chosen, displaying additional content:\n",
      "\n",
      "File outFile.stat contains:\n",
      "Center points treated so far= 496\n",
      "Maximal epsilon in the moment= 2.414194e+01\n",
      "\n"
     ]
    },
    {
     "name": "stderr",
     "output_type": "stream",
     "text": [
      "/Users/Emily/anaconda3/lib/python3.7/site-packages/ipykernel_launcher.py:53: RuntimeWarning: invalid value encountered in greater\n",
      "/Users/Emily/anaconda3/lib/python3.7/site-packages/ipykernel_launcher.py:54: RuntimeWarning: invalid value encountered in greater\n"
     ]
    },
    {
     "name": "stdout",
     "output_type": "stream",
     "text": [
      "\n",
      "Additional non-data files were created\n",
      "\tNonsilent mode chosen, displaying additional content:\n",
      "\n",
      "File outFile.stat contains:\n",
      "Center points treated so far= 495\n",
      "Maximal epsilon in the moment= 2.414194e+01\n",
      "\n"
     ]
    },
    {
     "name": "stderr",
     "output_type": "stream",
     "text": [
      "/Users/Emily/anaconda3/lib/python3.7/site-packages/ipykernel_launcher.py:53: RuntimeWarning: invalid value encountered in greater\n",
      "/Users/Emily/anaconda3/lib/python3.7/site-packages/ipykernel_launcher.py:54: RuntimeWarning: invalid value encountered in greater\n"
     ]
    },
    {
     "name": "stdout",
     "output_type": "stream",
     "text": [
      "\n",
      "Additional non-data files were created\n",
      "\tNonsilent mode chosen, displaying additional content:\n",
      "\n",
      "File outFile.stat contains:\n",
      "Center points treated so far= 496\n",
      "Maximal epsilon in the moment= 2.431270e+01\n",
      "\n"
     ]
    },
    {
     "name": "stderr",
     "output_type": "stream",
     "text": [
      "/Users/Emily/anaconda3/lib/python3.7/site-packages/ipykernel_launcher.py:53: RuntimeWarning: invalid value encountered in greater\n",
      "/Users/Emily/anaconda3/lib/python3.7/site-packages/ipykernel_launcher.py:54: RuntimeWarning: invalid value encountered in greater\n"
     ]
    },
    {
     "name": "stdout",
     "output_type": "stream",
     "text": [
      "\n",
      "Additional non-data files were created\n",
      "\tNonsilent mode chosen, displaying additional content:\n",
      "\n",
      "File outFile.stat contains:\n",
      "Center points treated so far= 495\n",
      "Maximal epsilon in the moment= 2.431270e+01\n",
      "\n"
     ]
    },
    {
     "name": "stderr",
     "output_type": "stream",
     "text": [
      "/Users/Emily/anaconda3/lib/python3.7/site-packages/ipykernel_launcher.py:53: RuntimeWarning: invalid value encountered in greater\n",
      "/Users/Emily/anaconda3/lib/python3.7/site-packages/ipykernel_launcher.py:54: RuntimeWarning: invalid value encountered in greater\n"
     ]
    },
    {
     "name": "stdout",
     "output_type": "stream",
     "text": [
      "\n",
      "Additional non-data files were created\n",
      "\tNonsilent mode chosen, displaying additional content:\n",
      "\n",
      "File outFile.stat contains:\n",
      "Center points treated so far= 43\n",
      "Maximal epsilon in the moment= 1.592709e+01\n",
      "\n"
     ]
    },
    {
     "name": "stderr",
     "output_type": "stream",
     "text": [
      "/Users/Emily/anaconda3/lib/python3.7/site-packages/ipykernel_launcher.py:79: RuntimeWarning: divide by zero encountered in log10\n",
      "/Users/Emily/anaconda3/lib/python3.7/site-packages/ipykernel_launcher.py:53: RuntimeWarning: invalid value encountered in greater\n",
      "/Users/Emily/anaconda3/lib/python3.7/site-packages/ipykernel_launcher.py:54: RuntimeWarning: invalid value encountered in greater\n"
     ]
    },
    {
     "name": "stdout",
     "output_type": "stream",
     "text": [
      "\n",
      "Additional non-data files were created\n",
      "\tNonsilent mode chosen, displaying additional content:\n",
      "\n",
      "File outFile.stat contains:\n",
      "Center points treated so far= 41\n",
      "Maximal epsilon in the moment= 1.592709e+01\n",
      "\n"
     ]
    },
    {
     "name": "stderr",
     "output_type": "stream",
     "text": [
      "/Users/Emily/anaconda3/lib/python3.7/site-packages/ipykernel_launcher.py:79: RuntimeWarning: divide by zero encountered in log10\n",
      "/Users/Emily/anaconda3/lib/python3.7/site-packages/ipykernel_launcher.py:53: RuntimeWarning: invalid value encountered in greater\n",
      "/Users/Emily/anaconda3/lib/python3.7/site-packages/ipykernel_launcher.py:54: RuntimeWarning: invalid value encountered in greater\n"
     ]
    },
    {
     "name": "stdout",
     "output_type": "stream",
     "text": [
      "\n",
      "Additional non-data files were created\n",
      "\tNonsilent mode chosen, displaying additional content:\n",
      "\n",
      "File outFile.stat contains:\n",
      "Center points treated so far= 48\n",
      "Maximal epsilon in the moment= 1.420896e+01\n",
      "\n"
     ]
    },
    {
     "name": "stderr",
     "output_type": "stream",
     "text": [
      "/Users/Emily/anaconda3/lib/python3.7/site-packages/ipykernel_launcher.py:53: RuntimeWarning: invalid value encountered in greater\n",
      "/Users/Emily/anaconda3/lib/python3.7/site-packages/ipykernel_launcher.py:54: RuntimeWarning: invalid value encountered in greater\n"
     ]
    },
    {
     "name": "stdout",
     "output_type": "stream",
     "text": [
      "\n",
      "Additional non-data files were created\n",
      "\tNonsilent mode chosen, displaying additional content:\n",
      "\n",
      "File outFile.stat contains:\n",
      "Center points treated so far= 47\n",
      "Maximal epsilon in the moment= 1.420896e+01\n",
      "\n"
     ]
    },
    {
     "name": "stderr",
     "output_type": "stream",
     "text": [
      "/Users/Emily/anaconda3/lib/python3.7/site-packages/ipykernel_launcher.py:53: RuntimeWarning: invalid value encountered in greater\n",
      "/Users/Emily/anaconda3/lib/python3.7/site-packages/ipykernel_launcher.py:54: RuntimeWarning: invalid value encountered in greater\n"
     ]
    },
    {
     "name": "stdout",
     "output_type": "stream",
     "text": [
      "\n",
      "Additional non-data files were created\n",
      "\tNonsilent mode chosen, displaying additional content:\n",
      "\n",
      "File outFile.stat contains:\n",
      "Center points treated so far= 43\n",
      "Maximal epsilon in the moment= 1.985257e+01\n",
      "\n"
     ]
    },
    {
     "name": "stderr",
     "output_type": "stream",
     "text": [
      "/Users/Emily/anaconda3/lib/python3.7/site-packages/ipykernel_launcher.py:79: RuntimeWarning: divide by zero encountered in log10\n",
      "/Users/Emily/anaconda3/lib/python3.7/site-packages/ipykernel_launcher.py:53: RuntimeWarning: invalid value encountered in greater\n",
      "/Users/Emily/anaconda3/lib/python3.7/site-packages/ipykernel_launcher.py:54: RuntimeWarning: invalid value encountered in greater\n"
     ]
    },
    {
     "name": "stdout",
     "output_type": "stream",
     "text": [
      "\n",
      "Additional non-data files were created\n",
      "\tNonsilent mode chosen, displaying additional content:\n",
      "\n",
      "File outFile.stat contains:\n",
      "Center points treated so far= 41\n",
      "Maximal epsilon in the moment= 1.985257e+01\n",
      "\n"
     ]
    },
    {
     "name": "stderr",
     "output_type": "stream",
     "text": [
      "/Users/Emily/anaconda3/lib/python3.7/site-packages/ipykernel_launcher.py:79: RuntimeWarning: divide by zero encountered in log10\n",
      "/Users/Emily/anaconda3/lib/python3.7/site-packages/ipykernel_launcher.py:53: RuntimeWarning: invalid value encountered in greater\n",
      "/Users/Emily/anaconda3/lib/python3.7/site-packages/ipykernel_launcher.py:54: RuntimeWarning: invalid value encountered in greater\n"
     ]
    },
    {
     "name": "stdout",
     "output_type": "stream",
     "text": [
      "\n",
      "Additional non-data files were created\n",
      "\tNonsilent mode chosen, displaying additional content:\n",
      "\n",
      "File outFile.stat contains:\n",
      "Center points treated so far= 955\n",
      "Maximal epsilon in the moment= 2.697621e+01\n",
      "\n"
     ]
    },
    {
     "name": "stderr",
     "output_type": "stream",
     "text": [
      "/Users/Emily/anaconda3/lib/python3.7/site-packages/ipykernel_launcher.py:53: RuntimeWarning: invalid value encountered in greater\n",
      "/Users/Emily/anaconda3/lib/python3.7/site-packages/ipykernel_launcher.py:54: RuntimeWarning: invalid value encountered in greater\n"
     ]
    },
    {
     "name": "stdout",
     "output_type": "stream",
     "text": [
      "\n",
      "Additional non-data files were created\n",
      "\tNonsilent mode chosen, displaying additional content:\n",
      "\n",
      "File outFile.stat contains:\n",
      "Center points treated so far= 933\n",
      "Maximal epsilon in the moment= 2.697621e+01\n",
      "\n"
     ]
    },
    {
     "name": "stderr",
     "output_type": "stream",
     "text": [
      "/Users/Emily/anaconda3/lib/python3.7/site-packages/ipykernel_launcher.py:53: RuntimeWarning: invalid value encountered in greater\n",
      "/Users/Emily/anaconda3/lib/python3.7/site-packages/ipykernel_launcher.py:54: RuntimeWarning: invalid value encountered in greater\n"
     ]
    },
    {
     "name": "stdout",
     "output_type": "stream",
     "text": [
      "\n",
      "Additional non-data files were created\n",
      "\tNonsilent mode chosen, displaying additional content:\n",
      "\n",
      "File outFile.stat contains:\n",
      "Center points treated so far= 936\n",
      "Maximal epsilon in the moment= 2.654771e+01\n",
      "\n"
     ]
    },
    {
     "name": "stderr",
     "output_type": "stream",
     "text": [
      "/Users/Emily/anaconda3/lib/python3.7/site-packages/ipykernel_launcher.py:53: RuntimeWarning: invalid value encountered in greater\n",
      "/Users/Emily/anaconda3/lib/python3.7/site-packages/ipykernel_launcher.py:54: RuntimeWarning: invalid value encountered in greater\n"
     ]
    },
    {
     "name": "stdout",
     "output_type": "stream",
     "text": [
      "\n",
      "Additional non-data files were created\n",
      "\tNonsilent mode chosen, displaying additional content:\n",
      "\n",
      "File outFile.stat contains:\n",
      "Center points treated so far= 915\n",
      "Maximal epsilon in the moment= 2.654771e+01\n",
      "\n"
     ]
    },
    {
     "name": "stderr",
     "output_type": "stream",
     "text": [
      "/Users/Emily/anaconda3/lib/python3.7/site-packages/ipykernel_launcher.py:53: RuntimeWarning: invalid value encountered in greater\n",
      "/Users/Emily/anaconda3/lib/python3.7/site-packages/ipykernel_launcher.py:54: RuntimeWarning: invalid value encountered in greater\n"
     ]
    },
    {
     "name": "stdout",
     "output_type": "stream",
     "text": [
      "\n",
      "Additional non-data files were created\n",
      "\tNonsilent mode chosen, displaying additional content:\n",
      "\n",
      "File outFile.stat contains:\n",
      "Center points treated so far= 933\n",
      "Maximal epsilon in the moment= 2.639137e+01\n",
      "\n"
     ]
    },
    {
     "name": "stderr",
     "output_type": "stream",
     "text": [
      "/Users/Emily/anaconda3/lib/python3.7/site-packages/ipykernel_launcher.py:53: RuntimeWarning: invalid value encountered in greater\n",
      "/Users/Emily/anaconda3/lib/python3.7/site-packages/ipykernel_launcher.py:54: RuntimeWarning: invalid value encountered in greater\n"
     ]
    },
    {
     "name": "stdout",
     "output_type": "stream",
     "text": [
      "\n",
      "Additional non-data files were created\n",
      "\tNonsilent mode chosen, displaying additional content:\n",
      "\n",
      "File outFile.stat contains:\n",
      "Center points treated so far= 911\n",
      "Maximal epsilon in the moment= 2.639137e+01\n",
      "\n"
     ]
    },
    {
     "name": "stderr",
     "output_type": "stream",
     "text": [
      "/Users/Emily/anaconda3/lib/python3.7/site-packages/ipykernel_launcher.py:53: RuntimeWarning: invalid value encountered in greater\n",
      "/Users/Emily/anaconda3/lib/python3.7/site-packages/ipykernel_launcher.py:54: RuntimeWarning: invalid value encountered in greater\n"
     ]
    },
    {
     "name": "stdout",
     "output_type": "stream",
     "text": [
      "\n",
      "Additional non-data files were created\n",
      "\tNonsilent mode chosen, displaying additional content:\n",
      "\n",
      "File outFile.stat contains:\n",
      "Center points treated so far= 4951\n",
      "Maximal epsilon in the moment= 2.693977e+01\n",
      "\n"
     ]
    },
    {
     "name": "stderr",
     "output_type": "stream",
     "text": [
      "/Users/Emily/anaconda3/lib/python3.7/site-packages/ipykernel_launcher.py:53: RuntimeWarning: invalid value encountered in greater\n",
      "/Users/Emily/anaconda3/lib/python3.7/site-packages/ipykernel_launcher.py:54: RuntimeWarning: invalid value encountered in greater\n"
     ]
    },
    {
     "name": "stdout",
     "output_type": "stream",
     "text": [
      "\n",
      "Additional non-data files were created\n",
      "\tNonsilent mode chosen, displaying additional content:\n",
      "\n",
      "File outFile.stat contains:\n",
      "Center points treated so far= 4927\n",
      "Maximal epsilon in the moment= 2.693977e+01\n",
      "\n"
     ]
    },
    {
     "name": "stderr",
     "output_type": "stream",
     "text": [
      "/Users/Emily/anaconda3/lib/python3.7/site-packages/ipykernel_launcher.py:53: RuntimeWarning: invalid value encountered in greater\n",
      "/Users/Emily/anaconda3/lib/python3.7/site-packages/ipykernel_launcher.py:54: RuntimeWarning: invalid value encountered in greater\n"
     ]
    },
    {
     "name": "stdout",
     "output_type": "stream",
     "text": [
      "\n",
      "Additional non-data files were created\n",
      "\tNonsilent mode chosen, displaying additional content:\n",
      "\n",
      "File outFile.stat contains:\n",
      "Center points treated so far= 4930\n",
      "Maximal epsilon in the moment= 2.681887e+01\n",
      "\n"
     ]
    },
    {
     "name": "stderr",
     "output_type": "stream",
     "text": [
      "/Users/Emily/anaconda3/lib/python3.7/site-packages/ipykernel_launcher.py:53: RuntimeWarning: invalid value encountered in greater\n",
      "/Users/Emily/anaconda3/lib/python3.7/site-packages/ipykernel_launcher.py:54: RuntimeWarning: invalid value encountered in greater\n"
     ]
    },
    {
     "name": "stdout",
     "output_type": "stream",
     "text": [
      "\n",
      "Additional non-data files were created\n",
      "\tNonsilent mode chosen, displaying additional content:\n",
      "\n",
      "File outFile.stat contains:\n",
      "Center points treated so far= 4907\n",
      "Maximal epsilon in the moment= 2.681887e+01\n",
      "\n"
     ]
    },
    {
     "name": "stderr",
     "output_type": "stream",
     "text": [
      "/Users/Emily/anaconda3/lib/python3.7/site-packages/ipykernel_launcher.py:53: RuntimeWarning: invalid value encountered in greater\n",
      "/Users/Emily/anaconda3/lib/python3.7/site-packages/ipykernel_launcher.py:54: RuntimeWarning: invalid value encountered in greater\n"
     ]
    },
    {
     "name": "stdout",
     "output_type": "stream",
     "text": [
      "\n",
      "Additional non-data files were created\n",
      "\tNonsilent mode chosen, displaying additional content:\n",
      "\n",
      "File outFile.stat contains:\n",
      "Center points treated so far= 4955\n",
      "Maximal epsilon in the moment= 2.687981e+01\n",
      "\n"
     ]
    },
    {
     "name": "stderr",
     "output_type": "stream",
     "text": [
      "/Users/Emily/anaconda3/lib/python3.7/site-packages/ipykernel_launcher.py:53: RuntimeWarning: invalid value encountered in greater\n",
      "/Users/Emily/anaconda3/lib/python3.7/site-packages/ipykernel_launcher.py:54: RuntimeWarning: invalid value encountered in greater\n"
     ]
    },
    {
     "name": "stdout",
     "output_type": "stream",
     "text": [
      "\n",
      "Additional non-data files were created\n",
      "\tNonsilent mode chosen, displaying additional content:\n",
      "\n",
      "File outFile.stat contains:\n",
      "Center points treated so far= 4933\n",
      "Maximal epsilon in the moment= 2.687981e+01\n",
      "\n"
     ]
    },
    {
     "name": "stderr",
     "output_type": "stream",
     "text": [
      "/Users/Emily/anaconda3/lib/python3.7/site-packages/ipykernel_launcher.py:53: RuntimeWarning: invalid value encountered in greater\n",
      "/Users/Emily/anaconda3/lib/python3.7/site-packages/ipykernel_launcher.py:54: RuntimeWarning: invalid value encountered in greater\n"
     ]
    },
    {
     "name": "stdout",
     "output_type": "stream",
     "text": [
      "\n",
      "Additional non-data files were created\n",
      "\tNonsilent mode chosen, displaying additional content:\n",
      "\n",
      "File outFile.stat contains:\n",
      "Center points treated so far= 301\n",
      "Maximal epsilon in the moment= 2.247216e+01\n",
      "\n"
     ]
    },
    {
     "name": "stderr",
     "output_type": "stream",
     "text": [
      "/Users/Emily/anaconda3/lib/python3.7/site-packages/ipykernel_launcher.py:53: RuntimeWarning: invalid value encountered in greater\n",
      "/Users/Emily/anaconda3/lib/python3.7/site-packages/ipykernel_launcher.py:54: RuntimeWarning: invalid value encountered in greater\n"
     ]
    },
    {
     "name": "stdout",
     "output_type": "stream",
     "text": [
      "\n",
      "Additional non-data files were created\n",
      "\tNonsilent mode chosen, displaying additional content:\n",
      "\n",
      "File outFile.stat contains:\n",
      "Center points treated so far= 235\n",
      "Maximal epsilon in the moment= 2.247216e+01\n",
      "\n"
     ]
    },
    {
     "name": "stderr",
     "output_type": "stream",
     "text": [
      "/Users/Emily/anaconda3/lib/python3.7/site-packages/ipykernel_launcher.py:53: RuntimeWarning: invalid value encountered in greater\n",
      "/Users/Emily/anaconda3/lib/python3.7/site-packages/ipykernel_launcher.py:54: RuntimeWarning: invalid value encountered in greater\n"
     ]
    },
    {
     "name": "stdout",
     "output_type": "stream",
     "text": [
      "\n",
      "Additional non-data files were created\n",
      "\tNonsilent mode chosen, displaying additional content:\n",
      "\n",
      "File outFile.stat contains:\n",
      "Center points treated so far= 463\n",
      "Maximal epsilon in the moment= 2.586438e+01\n",
      "\n"
     ]
    },
    {
     "name": "stderr",
     "output_type": "stream",
     "text": [
      "/Users/Emily/anaconda3/lib/python3.7/site-packages/ipykernel_launcher.py:53: RuntimeWarning: invalid value encountered in greater\n",
      "/Users/Emily/anaconda3/lib/python3.7/site-packages/ipykernel_launcher.py:54: RuntimeWarning: invalid value encountered in greater\n"
     ]
    },
    {
     "name": "stdout",
     "output_type": "stream",
     "text": [
      "\n",
      "Additional non-data files were created\n",
      "\tNonsilent mode chosen, displaying additional content:\n",
      "\n",
      "File outFile.stat contains:\n",
      "Center points treated so far= 445\n",
      "Maximal epsilon in the moment= 2.586438e+01\n",
      "\n"
     ]
    },
    {
     "name": "stderr",
     "output_type": "stream",
     "text": [
      "/Users/Emily/anaconda3/lib/python3.7/site-packages/ipykernel_launcher.py:53: RuntimeWarning: invalid value encountered in greater\n",
      "/Users/Emily/anaconda3/lib/python3.7/site-packages/ipykernel_launcher.py:54: RuntimeWarning: invalid value encountered in greater\n"
     ]
    },
    {
     "name": "stdout",
     "output_type": "stream",
     "text": [
      "\n",
      "Additional non-data files were created\n",
      "\tNonsilent mode chosen, displaying additional content:\n",
      "\n",
      "File outFile.stat contains:\n",
      "Center points treated so far= 449\n",
      "Maximal epsilon in the moment= 2.239211e+01\n",
      "\n"
     ]
    },
    {
     "name": "stderr",
     "output_type": "stream",
     "text": [
      "/Users/Emily/anaconda3/lib/python3.7/site-packages/ipykernel_launcher.py:53: RuntimeWarning: invalid value encountered in greater\n",
      "/Users/Emily/anaconda3/lib/python3.7/site-packages/ipykernel_launcher.py:54: RuntimeWarning: invalid value encountered in greater\n"
     ]
    },
    {
     "name": "stdout",
     "output_type": "stream",
     "text": [
      "\n",
      "Additional non-data files were created\n",
      "\tNonsilent mode chosen, displaying additional content:\n",
      "\n",
      "File outFile.stat contains:\n",
      "Center points treated so far= 424\n",
      "Maximal epsilon in the moment= 2.239211e+01\n",
      "\n"
     ]
    },
    {
     "name": "stderr",
     "output_type": "stream",
     "text": [
      "/Users/Emily/anaconda3/lib/python3.7/site-packages/ipykernel_launcher.py:53: RuntimeWarning: invalid value encountered in greater\n",
      "/Users/Emily/anaconda3/lib/python3.7/site-packages/ipykernel_launcher.py:54: RuntimeWarning: invalid value encountered in greater\n"
     ]
    },
    {
     "name": "stdout",
     "output_type": "stream",
     "text": [
      "\n",
      "Additional non-data files were created\n",
      "\tNonsilent mode chosen, displaying additional content:\n",
      "\n",
      "File outFile.stat contains:\n",
      "Center points treated so far= 477\n",
      "Maximal epsilon in the moment= 2.638891e+01\n",
      "\n"
     ]
    },
    {
     "name": "stderr",
     "output_type": "stream",
     "text": [
      "/Users/Emily/anaconda3/lib/python3.7/site-packages/ipykernel_launcher.py:53: RuntimeWarning: invalid value encountered in greater\n",
      "/Users/Emily/anaconda3/lib/python3.7/site-packages/ipykernel_launcher.py:54: RuntimeWarning: invalid value encountered in greater\n"
     ]
    },
    {
     "name": "stdout",
     "output_type": "stream",
     "text": [
      "\n",
      "Additional non-data files were created\n",
      "\tNonsilent mode chosen, displaying additional content:\n",
      "\n",
      "File outFile.stat contains:\n",
      "Center points treated so far= 466\n",
      "Maximal epsilon in the moment= 2.638891e+01\n",
      "\n"
     ]
    },
    {
     "name": "stderr",
     "output_type": "stream",
     "text": [
      "/Users/Emily/anaconda3/lib/python3.7/site-packages/ipykernel_launcher.py:53: RuntimeWarning: invalid value encountered in greater\n",
      "/Users/Emily/anaconda3/lib/python3.7/site-packages/ipykernel_launcher.py:54: RuntimeWarning: invalid value encountered in greater\n"
     ]
    },
    {
     "name": "stdout",
     "output_type": "stream",
     "text": [
      "\n",
      "Additional non-data files were created\n",
      "\tNonsilent mode chosen, displaying additional content:\n",
      "\n",
      "File outFile.stat contains:\n",
      "Center points treated so far= 469\n",
      "Maximal epsilon in the moment= 2.609598e+01\n",
      "\n"
     ]
    },
    {
     "name": "stderr",
     "output_type": "stream",
     "text": [
      "/Users/Emily/anaconda3/lib/python3.7/site-packages/ipykernel_launcher.py:53: RuntimeWarning: invalid value encountered in greater\n",
      "/Users/Emily/anaconda3/lib/python3.7/site-packages/ipykernel_launcher.py:54: RuntimeWarning: invalid value encountered in greater\n"
     ]
    },
    {
     "name": "stdout",
     "output_type": "stream",
     "text": [
      "\n",
      "Additional non-data files were created\n",
      "\tNonsilent mode chosen, displaying additional content:\n",
      "\n",
      "File outFile.stat contains:\n",
      "Center points treated so far= 459\n",
      "Maximal epsilon in the moment= 2.609598e+01\n",
      "\n"
     ]
    },
    {
     "name": "stderr",
     "output_type": "stream",
     "text": [
      "/Users/Emily/anaconda3/lib/python3.7/site-packages/ipykernel_launcher.py:53: RuntimeWarning: invalid value encountered in greater\n",
      "/Users/Emily/anaconda3/lib/python3.7/site-packages/ipykernel_launcher.py:54: RuntimeWarning: invalid value encountered in greater\n"
     ]
    },
    {
     "name": "stdout",
     "output_type": "stream",
     "text": [
      "\n",
      "Additional non-data files were created\n",
      "\tNonsilent mode chosen, displaying additional content:\n",
      "\n",
      "File outFile.stat contains:\n",
      "Center points treated so far= 481\n",
      "Maximal epsilon in the moment= 2.618000e+01\n",
      "\n"
     ]
    },
    {
     "name": "stderr",
     "output_type": "stream",
     "text": [
      "/Users/Emily/anaconda3/lib/python3.7/site-packages/ipykernel_launcher.py:53: RuntimeWarning: invalid value encountered in greater\n",
      "/Users/Emily/anaconda3/lib/python3.7/site-packages/ipykernel_launcher.py:54: RuntimeWarning: invalid value encountered in greater\n"
     ]
    },
    {
     "name": "stdout",
     "output_type": "stream",
     "text": [
      "\n",
      "Additional non-data files were created\n",
      "\tNonsilent mode chosen, displaying additional content:\n",
      "\n",
      "File outFile.stat contains:\n",
      "Center points treated so far= 472\n",
      "Maximal epsilon in the moment= 2.618000e+01\n",
      "\n"
     ]
    },
    {
     "name": "stderr",
     "output_type": "stream",
     "text": [
      "/Users/Emily/anaconda3/lib/python3.7/site-packages/ipykernel_launcher.py:53: RuntimeWarning: invalid value encountered in greater\n",
      "/Users/Emily/anaconda3/lib/python3.7/site-packages/ipykernel_launcher.py:54: RuntimeWarning: invalid value encountered in greater\n"
     ]
    },
    {
     "name": "stdout",
     "output_type": "stream",
     "text": [
      "\n",
      "Additional non-data files were created\n",
      "\tNonsilent mode chosen, displaying additional content:\n",
      "\n",
      "File outFile.stat contains:\n",
      "Center points treated so far= 2477\n",
      "Maximal epsilon in the moment= 2.671112e+01\n",
      "\n"
     ]
    },
    {
     "name": "stderr",
     "output_type": "stream",
     "text": [
      "/Users/Emily/anaconda3/lib/python3.7/site-packages/ipykernel_launcher.py:53: RuntimeWarning: invalid value encountered in greater\n",
      "/Users/Emily/anaconda3/lib/python3.7/site-packages/ipykernel_launcher.py:54: RuntimeWarning: invalid value encountered in greater\n"
     ]
    },
    {
     "name": "stdout",
     "output_type": "stream",
     "text": [
      "\n",
      "Additional non-data files were created\n",
      "\tNonsilent mode chosen, displaying additional content:\n",
      "\n",
      "File outFile.stat contains:\n",
      "Center points treated so far= 2466\n",
      "Maximal epsilon in the moment= 2.671112e+01\n",
      "\n"
     ]
    },
    {
     "name": "stderr",
     "output_type": "stream",
     "text": [
      "/Users/Emily/anaconda3/lib/python3.7/site-packages/ipykernel_launcher.py:53: RuntimeWarning: invalid value encountered in greater\n",
      "/Users/Emily/anaconda3/lib/python3.7/site-packages/ipykernel_launcher.py:54: RuntimeWarning: invalid value encountered in greater\n"
     ]
    },
    {
     "name": "stdout",
     "output_type": "stream",
     "text": [
      "\n",
      "Additional non-data files were created\n",
      "\tNonsilent mode chosen, displaying additional content:\n",
      "\n",
      "File outFile.stat contains:\n",
      "Center points treated so far= 2466\n",
      "Maximal epsilon in the moment= 2.681887e+01\n",
      "\n"
     ]
    },
    {
     "name": "stderr",
     "output_type": "stream",
     "text": [
      "/Users/Emily/anaconda3/lib/python3.7/site-packages/ipykernel_launcher.py:53: RuntimeWarning: invalid value encountered in greater\n",
      "/Users/Emily/anaconda3/lib/python3.7/site-packages/ipykernel_launcher.py:54: RuntimeWarning: invalid value encountered in greater\n"
     ]
    },
    {
     "name": "stdout",
     "output_type": "stream",
     "text": [
      "\n",
      "Additional non-data files were created\n",
      "\tNonsilent mode chosen, displaying additional content:\n",
      "\n",
      "File outFile.stat contains:\n",
      "Center points treated so far= 2455\n",
      "Maximal epsilon in the moment= 2.681887e+01\n",
      "\n"
     ]
    },
    {
     "name": "stderr",
     "output_type": "stream",
     "text": [
      "/Users/Emily/anaconda3/lib/python3.7/site-packages/ipykernel_launcher.py:53: RuntimeWarning: invalid value encountered in greater\n",
      "/Users/Emily/anaconda3/lib/python3.7/site-packages/ipykernel_launcher.py:54: RuntimeWarning: invalid value encountered in greater\n"
     ]
    },
    {
     "name": "stdout",
     "output_type": "stream",
     "text": [
      "\n",
      "Additional non-data files were created\n",
      "\tNonsilent mode chosen, displaying additional content:\n",
      "\n",
      "File outFile.stat contains:\n",
      "Center points treated so far= 2477\n",
      "Maximal epsilon in the moment= 2.687428e+01\n",
      "\n"
     ]
    },
    {
     "name": "stderr",
     "output_type": "stream",
     "text": [
      "/Users/Emily/anaconda3/lib/python3.7/site-packages/ipykernel_launcher.py:53: RuntimeWarning: invalid value encountered in greater\n",
      "/Users/Emily/anaconda3/lib/python3.7/site-packages/ipykernel_launcher.py:54: RuntimeWarning: invalid value encountered in greater\n"
     ]
    },
    {
     "name": "stdout",
     "output_type": "stream",
     "text": [
      "\n",
      "Additional non-data files were created\n",
      "\tNonsilent mode chosen, displaying additional content:\n",
      "\n",
      "File outFile.stat contains:\n",
      "Center points treated so far= 2466\n",
      "Maximal epsilon in the moment= 2.687428e+01\n",
      "\n"
     ]
    },
    {
     "name": "stderr",
     "output_type": "stream",
     "text": [
      "/Users/Emily/anaconda3/lib/python3.7/site-packages/ipykernel_launcher.py:53: RuntimeWarning: invalid value encountered in greater\n",
      "/Users/Emily/anaconda3/lib/python3.7/site-packages/ipykernel_launcher.py:54: RuntimeWarning: invalid value encountered in greater\n"
     ]
    },
    {
     "name": "stdout",
     "output_type": "stream",
     "text": [
      "\n",
      "Additional non-data files were created\n",
      "\tNonsilent mode chosen, displaying additional content:\n",
      "\n",
      "File outFile.stat contains:\n",
      "Center points treated so far= 147\n",
      "Maximal epsilon in the moment= 2.247216e+01\n",
      "\n"
     ]
    },
    {
     "name": "stderr",
     "output_type": "stream",
     "text": [
      "/Users/Emily/anaconda3/lib/python3.7/site-packages/ipykernel_launcher.py:53: RuntimeWarning: invalid value encountered in greater\n",
      "/Users/Emily/anaconda3/lib/python3.7/site-packages/ipykernel_launcher.py:54: RuntimeWarning: invalid value encountered in greater\n"
     ]
    },
    {
     "name": "stdout",
     "output_type": "stream",
     "text": [
      "\n",
      "Additional non-data files were created\n",
      "\tNonsilent mode chosen, displaying additional content:\n",
      "\n",
      "File outFile.stat contains:\n",
      "Center points treated so far= 113\n",
      "Maximal epsilon in the moment= 2.247216e+01\n",
      "\n"
     ]
    },
    {
     "name": "stderr",
     "output_type": "stream",
     "text": [
      "/Users/Emily/anaconda3/lib/python3.7/site-packages/ipykernel_launcher.py:79: RuntimeWarning: divide by zero encountered in log10\n",
      "/Users/Emily/anaconda3/lib/python3.7/site-packages/ipykernel_launcher.py:53: RuntimeWarning: invalid value encountered in greater\n",
      "/Users/Emily/anaconda3/lib/python3.7/site-packages/ipykernel_launcher.py:54: RuntimeWarning: invalid value encountered in greater\n"
     ]
    },
    {
     "name": "stdout",
     "output_type": "stream",
     "text": [
      "\n",
      "Additional non-data files were created\n",
      "\tNonsilent mode chosen, displaying additional content:\n",
      "\n",
      "File outFile.stat contains:\n",
      "Center points treated so far= 229\n",
      "Maximal epsilon in the moment= 2.586438e+01\n",
      "\n"
     ]
    },
    {
     "name": "stderr",
     "output_type": "stream",
     "text": [
      "/Users/Emily/anaconda3/lib/python3.7/site-packages/ipykernel_launcher.py:53: RuntimeWarning: invalid value encountered in greater\n",
      "/Users/Emily/anaconda3/lib/python3.7/site-packages/ipykernel_launcher.py:54: RuntimeWarning: invalid value encountered in greater\n"
     ]
    },
    {
     "name": "stdout",
     "output_type": "stream",
     "text": [
      "\n",
      "Additional non-data files were created\n",
      "\tNonsilent mode chosen, displaying additional content:\n",
      "\n",
      "File outFile.stat contains:\n",
      "Center points treated so far= 219\n",
      "Maximal epsilon in the moment= 2.586438e+01\n",
      "\n"
     ]
    },
    {
     "name": "stderr",
     "output_type": "stream",
     "text": [
      "/Users/Emily/anaconda3/lib/python3.7/site-packages/ipykernel_launcher.py:53: RuntimeWarning: invalid value encountered in greater\n",
      "/Users/Emily/anaconda3/lib/python3.7/site-packages/ipykernel_launcher.py:54: RuntimeWarning: invalid value encountered in greater\n"
     ]
    },
    {
     "name": "stdout",
     "output_type": "stream",
     "text": [
      "\n",
      "Additional non-data files were created\n",
      "\tNonsilent mode chosen, displaying additional content:\n",
      "\n",
      "File outFile.stat contains:\n",
      "Center points treated so far= 225\n",
      "Maximal epsilon in the moment= 2.216531e+01\n",
      "\n"
     ]
    },
    {
     "name": "stderr",
     "output_type": "stream",
     "text": [
      "/Users/Emily/anaconda3/lib/python3.7/site-packages/ipykernel_launcher.py:53: RuntimeWarning: invalid value encountered in greater\n",
      "/Users/Emily/anaconda3/lib/python3.7/site-packages/ipykernel_launcher.py:54: RuntimeWarning: invalid value encountered in greater\n"
     ]
    },
    {
     "name": "stdout",
     "output_type": "stream",
     "text": [
      "\n",
      "Additional non-data files were created\n",
      "\tNonsilent mode chosen, displaying additional content:\n",
      "\n",
      "File outFile.stat contains:\n",
      "Center points treated so far= 213\n",
      "Maximal epsilon in the moment= 2.216531e+01\n",
      "\n"
     ]
    },
    {
     "name": "stderr",
     "output_type": "stream",
     "text": [
      "/Users/Emily/anaconda3/lib/python3.7/site-packages/ipykernel_launcher.py:53: RuntimeWarning: invalid value encountered in greater\n",
      "/Users/Emily/anaconda3/lib/python3.7/site-packages/ipykernel_launcher.py:54: RuntimeWarning: invalid value encountered in greater\n"
     ]
    },
    {
     "name": "stdout",
     "output_type": "stream",
     "text": [
      "\n",
      "Additional non-data files were created\n",
      "\tNonsilent mode chosen, displaying additional content:\n",
      "\n",
      "File outFile.stat contains:\n",
      "Center points treated so far= 96\n",
      "Maximal epsilon in the moment= 2.009808e+01\n",
      "\n"
     ]
    },
    {
     "name": "stderr",
     "output_type": "stream",
     "text": [
      "/Users/Emily/anaconda3/lib/python3.7/site-packages/ipykernel_launcher.py:53: RuntimeWarning: invalid value encountered in greater\n",
      "/Users/Emily/anaconda3/lib/python3.7/site-packages/ipykernel_launcher.py:54: RuntimeWarning: invalid value encountered in greater\n"
     ]
    },
    {
     "name": "stdout",
     "output_type": "stream",
     "text": [
      "\n",
      "Additional non-data files were created\n",
      "\tNonsilent mode chosen, displaying additional content:\n",
      "\n",
      "File outFile.stat contains:\n",
      "Center points treated so far= 95\n",
      "Maximal epsilon in the moment= 2.009808e+01\n",
      "\n"
     ]
    },
    {
     "name": "stderr",
     "output_type": "stream",
     "text": [
      "/Users/Emily/anaconda3/lib/python3.7/site-packages/ipykernel_launcher.py:53: RuntimeWarning: invalid value encountered in greater\n",
      "/Users/Emily/anaconda3/lib/python3.7/site-packages/ipykernel_launcher.py:54: RuntimeWarning: invalid value encountered in greater\n"
     ]
    },
    {
     "name": "stdout",
     "output_type": "stream",
     "text": [
      "\n",
      "Additional non-data files were created\n",
      "\tNonsilent mode chosen, displaying additional content:\n",
      "\n",
      "File outFile.stat contains:\n",
      "Center points treated so far= 96\n",
      "Maximal epsilon in the moment= 2.600263e+01\n",
      "\n"
     ]
    },
    {
     "name": "stderr",
     "output_type": "stream",
     "text": [
      "/Users/Emily/anaconda3/lib/python3.7/site-packages/ipykernel_launcher.py:53: RuntimeWarning: invalid value encountered in greater\n",
      "/Users/Emily/anaconda3/lib/python3.7/site-packages/ipykernel_launcher.py:54: RuntimeWarning: invalid value encountered in greater\n"
     ]
    },
    {
     "name": "stdout",
     "output_type": "stream",
     "text": [
      "\n",
      "Additional non-data files were created\n",
      "\tNonsilent mode chosen, displaying additional content:\n",
      "\n",
      "File outFile.stat contains:\n",
      "Center points treated so far= 95\n",
      "Maximal epsilon in the moment= 2.600263e+01\n",
      "\n"
     ]
    },
    {
     "name": "stderr",
     "output_type": "stream",
     "text": [
      "/Users/Emily/anaconda3/lib/python3.7/site-packages/ipykernel_launcher.py:53: RuntimeWarning: invalid value encountered in greater\n",
      "/Users/Emily/anaconda3/lib/python3.7/site-packages/ipykernel_launcher.py:54: RuntimeWarning: invalid value encountered in greater\n"
     ]
    },
    {
     "name": "stdout",
     "output_type": "stream",
     "text": [
      "\n",
      "Additional non-data files were created\n",
      "\tNonsilent mode chosen, displaying additional content:\n",
      "\n",
      "File outFile.stat contains:\n",
      "Center points treated so far= 81\n",
      "Maximal epsilon in the moment= 1.962948e+01\n",
      "\n"
     ]
    },
    {
     "name": "stderr",
     "output_type": "stream",
     "text": [
      "/Users/Emily/anaconda3/lib/python3.7/site-packages/ipykernel_launcher.py:53: RuntimeWarning: invalid value encountered in greater\n",
      "/Users/Emily/anaconda3/lib/python3.7/site-packages/ipykernel_launcher.py:54: RuntimeWarning: invalid value encountered in greater\n"
     ]
    },
    {
     "name": "stdout",
     "output_type": "stream",
     "text": [
      "\n",
      "Additional non-data files were created\n",
      "\tNonsilent mode chosen, displaying additional content:\n",
      "\n",
      "File outFile.stat contains:\n",
      "Center points treated so far= 75\n",
      "Maximal epsilon in the moment= 1.962948e+01\n",
      "\n"
     ]
    },
    {
     "name": "stderr",
     "output_type": "stream",
     "text": [
      "/Users/Emily/anaconda3/lib/python3.7/site-packages/ipykernel_launcher.py:79: RuntimeWarning: divide by zero encountered in log10\n",
      "/Users/Emily/anaconda3/lib/python3.7/site-packages/ipykernel_launcher.py:53: RuntimeWarning: invalid value encountered in greater\n",
      "/Users/Emily/anaconda3/lib/python3.7/site-packages/ipykernel_launcher.py:54: RuntimeWarning: invalid value encountered in greater\n"
     ]
    },
    {
     "name": "stdout",
     "output_type": "stream",
     "text": [
      "\n",
      "Additional non-data files were created\n",
      "\tNonsilent mode chosen, displaying additional content:\n",
      "\n",
      "File outFile.stat contains:\n",
      "Center points treated so far= 496\n",
      "Maximal epsilon in the moment= 2.648946e+01\n",
      "\n"
     ]
    },
    {
     "name": "stderr",
     "output_type": "stream",
     "text": [
      "/Users/Emily/anaconda3/lib/python3.7/site-packages/ipykernel_launcher.py:53: RuntimeWarning: invalid value encountered in greater\n",
      "/Users/Emily/anaconda3/lib/python3.7/site-packages/ipykernel_launcher.py:54: RuntimeWarning: invalid value encountered in greater\n"
     ]
    },
    {
     "name": "stdout",
     "output_type": "stream",
     "text": [
      "\n",
      "Additional non-data files were created\n",
      "\tNonsilent mode chosen, displaying additional content:\n",
      "\n",
      "File outFile.stat contains:\n",
      "Center points treated so far= 495\n",
      "Maximal epsilon in the moment= 2.648946e+01\n",
      "\n"
     ]
    },
    {
     "name": "stderr",
     "output_type": "stream",
     "text": [
      "/Users/Emily/anaconda3/lib/python3.7/site-packages/ipykernel_launcher.py:53: RuntimeWarning: invalid value encountered in greater\n",
      "/Users/Emily/anaconda3/lib/python3.7/site-packages/ipykernel_launcher.py:54: RuntimeWarning: invalid value encountered in greater\n"
     ]
    },
    {
     "name": "stdout",
     "output_type": "stream",
     "text": [
      "\n",
      "Additional non-data files were created\n",
      "\tNonsilent mode chosen, displaying additional content:\n",
      "\n",
      "File outFile.stat contains:\n",
      "Center points treated so far= 496\n",
      "Maximal epsilon in the moment= 2.586215e+01\n",
      "\n"
     ]
    },
    {
     "name": "stderr",
     "output_type": "stream",
     "text": [
      "/Users/Emily/anaconda3/lib/python3.7/site-packages/ipykernel_launcher.py:53: RuntimeWarning: invalid value encountered in greater\n",
      "/Users/Emily/anaconda3/lib/python3.7/site-packages/ipykernel_launcher.py:54: RuntimeWarning: invalid value encountered in greater\n"
     ]
    },
    {
     "name": "stdout",
     "output_type": "stream",
     "text": [
      "\n",
      "Additional non-data files were created\n",
      "\tNonsilent mode chosen, displaying additional content:\n",
      "\n",
      "File outFile.stat contains:\n",
      "Center points treated so far= 495\n",
      "Maximal epsilon in the moment= 2.586215e+01\n",
      "\n"
     ]
    },
    {
     "name": "stderr",
     "output_type": "stream",
     "text": [
      "/Users/Emily/anaconda3/lib/python3.7/site-packages/ipykernel_launcher.py:53: RuntimeWarning: invalid value encountered in greater\n",
      "/Users/Emily/anaconda3/lib/python3.7/site-packages/ipykernel_launcher.py:54: RuntimeWarning: invalid value encountered in greater\n"
     ]
    },
    {
     "name": "stdout",
     "output_type": "stream",
     "text": [
      "\n",
      "Additional non-data files were created\n",
      "\tNonsilent mode chosen, displaying additional content:\n",
      "\n",
      "File outFile.stat contains:\n",
      "Center points treated so far= 496\n",
      "Maximal epsilon in the moment= 2.555591e+01\n",
      "\n"
     ]
    },
    {
     "name": "stderr",
     "output_type": "stream",
     "text": [
      "/Users/Emily/anaconda3/lib/python3.7/site-packages/ipykernel_launcher.py:53: RuntimeWarning: invalid value encountered in greater\n",
      "/Users/Emily/anaconda3/lib/python3.7/site-packages/ipykernel_launcher.py:54: RuntimeWarning: invalid value encountered in greater\n"
     ]
    },
    {
     "name": "stdout",
     "output_type": "stream",
     "text": [
      "\n",
      "Additional non-data files were created\n",
      "\tNonsilent mode chosen, displaying additional content:\n",
      "\n",
      "File outFile.stat contains:\n",
      "Center points treated so far= 495\n",
      "Maximal epsilon in the moment= 2.555591e+01\n",
      "\n"
     ]
    },
    {
     "name": "stderr",
     "output_type": "stream",
     "text": [
      "/Users/Emily/anaconda3/lib/python3.7/site-packages/ipykernel_launcher.py:53: RuntimeWarning: invalid value encountered in greater\n",
      "/Users/Emily/anaconda3/lib/python3.7/site-packages/ipykernel_launcher.py:54: RuntimeWarning: invalid value encountered in greater\n"
     ]
    },
    {
     "name": "stdout",
     "output_type": "stream",
     "text": [
      "\n",
      "Additional non-data files were created\n",
      "\tNonsilent mode chosen, displaying additional content:\n",
      "\n",
      "File outFile.stat contains:\n",
      "Center points treated so far= 37\n",
      "Maximal epsilon in the moment= 2.117948e+01\n",
      "\n"
     ]
    },
    {
     "name": "stderr",
     "output_type": "stream",
     "text": [
      "/Users/Emily/anaconda3/lib/python3.7/site-packages/ipykernel_launcher.py:79: RuntimeWarning: divide by zero encountered in log10\n",
      "/Users/Emily/anaconda3/lib/python3.7/site-packages/ipykernel_launcher.py:53: RuntimeWarning: invalid value encountered in greater\n",
      "/Users/Emily/anaconda3/lib/python3.7/site-packages/ipykernel_launcher.py:54: RuntimeWarning: invalid value encountered in greater\n"
     ]
    },
    {
     "name": "stdout",
     "output_type": "stream",
     "text": [
      "\n",
      "Additional non-data files were created\n",
      "\tNonsilent mode chosen, displaying additional content:\n",
      "\n",
      "File outFile.stat contains:\n",
      "Center points treated so far= 31\n",
      "Maximal epsilon in the moment= 2.117948e+01\n",
      "\n"
     ]
    },
    {
     "name": "stderr",
     "output_type": "stream",
     "text": [
      "/Users/Emily/anaconda3/lib/python3.7/site-packages/ipykernel_launcher.py:79: RuntimeWarning: divide by zero encountered in log10\n",
      "/Users/Emily/anaconda3/lib/python3.7/site-packages/ipykernel_launcher.py:53: RuntimeWarning: invalid value encountered in greater\n",
      "/Users/Emily/anaconda3/lib/python3.7/site-packages/ipykernel_launcher.py:54: RuntimeWarning: invalid value encountered in greater\n"
     ]
    },
    {
     "name": "stdout",
     "output_type": "stream",
     "text": [
      "\n",
      "Additional non-data files were created\n",
      "\tNonsilent mode chosen, displaying additional content:\n",
      "\n",
      "File outFile.stat contains:\n",
      "Center points treated so far= 45\n",
      "Maximal epsilon in the moment= 2.497843e+01\n",
      "\n"
     ]
    },
    {
     "name": "stderr",
     "output_type": "stream",
     "text": [
      "/Users/Emily/anaconda3/lib/python3.7/site-packages/ipykernel_launcher.py:53: RuntimeWarning: invalid value encountered in greater\n",
      "/Users/Emily/anaconda3/lib/python3.7/site-packages/ipykernel_launcher.py:54: RuntimeWarning: invalid value encountered in greater\n"
     ]
    },
    {
     "name": "stdout",
     "output_type": "stream",
     "text": [
      "\n",
      "Additional non-data files were created\n",
      "\tNonsilent mode chosen, displaying additional content:\n",
      "\n",
      "File outFile.stat contains:\n",
      "Center points treated so far= 43\n",
      "Maximal epsilon in the moment= 2.497843e+01\n",
      "\n"
     ]
    },
    {
     "name": "stderr",
     "output_type": "stream",
     "text": [
      "/Users/Emily/anaconda3/lib/python3.7/site-packages/ipykernel_launcher.py:53: RuntimeWarning: invalid value encountered in greater\n",
      "/Users/Emily/anaconda3/lib/python3.7/site-packages/ipykernel_launcher.py:54: RuntimeWarning: invalid value encountered in greater\n"
     ]
    },
    {
     "name": "stdout",
     "output_type": "stream",
     "text": [
      "\n",
      "Additional non-data files were created\n",
      "\tNonsilent mode chosen, displaying additional content:\n",
      "\n",
      "File outFile.stat contains:\n",
      "Center points treated so far= 37\n",
      "Maximal epsilon in the moment= 2.150019e+01\n",
      "\n"
     ]
    },
    {
     "name": "stderr",
     "output_type": "stream",
     "text": [
      "/Users/Emily/anaconda3/lib/python3.7/site-packages/ipykernel_launcher.py:79: RuntimeWarning: divide by zero encountered in log10\n",
      "/Users/Emily/anaconda3/lib/python3.7/site-packages/ipykernel_launcher.py:53: RuntimeWarning: invalid value encountered in greater\n",
      "/Users/Emily/anaconda3/lib/python3.7/site-packages/ipykernel_launcher.py:54: RuntimeWarning: invalid value encountered in greater\n"
     ]
    },
    {
     "name": "stdout",
     "output_type": "stream",
     "text": [
      "\n",
      "Additional non-data files were created\n",
      "\tNonsilent mode chosen, displaying additional content:\n",
      "\n",
      "File outFile.stat contains:\n",
      "Center points treated so far= 31\n",
      "Maximal epsilon in the moment= 2.150019e+01\n",
      "\n"
     ]
    },
    {
     "name": "stderr",
     "output_type": "stream",
     "text": [
      "/Users/Emily/anaconda3/lib/python3.7/site-packages/ipykernel_launcher.py:79: RuntimeWarning: divide by zero encountered in log10\n",
      "/Users/Emily/anaconda3/lib/python3.7/site-packages/ipykernel_launcher.py:53: RuntimeWarning: invalid value encountered in greater\n",
      "/Users/Emily/anaconda3/lib/python3.7/site-packages/ipykernel_launcher.py:54: RuntimeWarning: invalid value encountered in greater\n"
     ]
    },
    {
     "name": "stdout",
     "output_type": "stream",
     "text": [
      "\n",
      "Additional non-data files were created\n",
      "\tNonsilent mode chosen, displaying additional content:\n",
      "\n",
      "File outFile.stat contains:\n",
      "Center points treated so far= 949\n",
      "Maximal epsilon in the moment= 1.664263e+01\n",
      "\n"
     ]
    },
    {
     "name": "stderr",
     "output_type": "stream",
     "text": [
      "/Users/Emily/anaconda3/lib/python3.7/site-packages/ipykernel_launcher.py:53: RuntimeWarning: invalid value encountered in greater\n",
      "/Users/Emily/anaconda3/lib/python3.7/site-packages/ipykernel_launcher.py:54: RuntimeWarning: invalid value encountered in greater\n"
     ]
    },
    {
     "name": "stdout",
     "output_type": "stream",
     "text": [
      "\n",
      "Additional non-data files were created\n",
      "\tNonsilent mode chosen, displaying additional content:\n",
      "\n",
      "File outFile.stat contains:\n",
      "Center points treated so far= 924\n",
      "Maximal epsilon in the moment= 1.664263e+01\n",
      "\n"
     ]
    },
    {
     "name": "stderr",
     "output_type": "stream",
     "text": [
      "/Users/Emily/anaconda3/lib/python3.7/site-packages/ipykernel_launcher.py:53: RuntimeWarning: invalid value encountered in greater\n",
      "/Users/Emily/anaconda3/lib/python3.7/site-packages/ipykernel_launcher.py:54: RuntimeWarning: invalid value encountered in greater\n"
     ]
    },
    {
     "name": "stdout",
     "output_type": "stream",
     "text": [
      "\n",
      "Additional non-data files were created\n",
      "\tNonsilent mode chosen, displaying additional content:\n",
      "\n",
      "File outFile.stat contains:\n",
      "Center points treated so far= 949\n",
      "Maximal epsilon in the moment= 1.661224e+01\n",
      "\n"
     ]
    },
    {
     "name": "stderr",
     "output_type": "stream",
     "text": [
      "/Users/Emily/anaconda3/lib/python3.7/site-packages/ipykernel_launcher.py:53: RuntimeWarning: invalid value encountered in greater\n",
      "/Users/Emily/anaconda3/lib/python3.7/site-packages/ipykernel_launcher.py:54: RuntimeWarning: invalid value encountered in greater\n"
     ]
    },
    {
     "name": "stdout",
     "output_type": "stream",
     "text": [
      "\n",
      "Additional non-data files were created\n",
      "\tNonsilent mode chosen, displaying additional content:\n",
      "\n",
      "File outFile.stat contains:\n",
      "Center points treated so far= 924\n",
      "Maximal epsilon in the moment= 1.661224e+01\n",
      "\n"
     ]
    },
    {
     "name": "stderr",
     "output_type": "stream",
     "text": [
      "/Users/Emily/anaconda3/lib/python3.7/site-packages/ipykernel_launcher.py:53: RuntimeWarning: invalid value encountered in greater\n",
      "/Users/Emily/anaconda3/lib/python3.7/site-packages/ipykernel_launcher.py:54: RuntimeWarning: invalid value encountered in greater\n"
     ]
    },
    {
     "name": "stdout",
     "output_type": "stream",
     "text": [
      "\n",
      "Additional non-data files were created\n",
      "\tNonsilent mode chosen, displaying additional content:\n",
      "\n",
      "File outFile.stat contains:\n",
      "Center points treated so far= 951\n",
      "Maximal epsilon in the moment= 1.667650e+01\n",
      "\n"
     ]
    },
    {
     "name": "stderr",
     "output_type": "stream",
     "text": [
      "/Users/Emily/anaconda3/lib/python3.7/site-packages/ipykernel_launcher.py:53: RuntimeWarning: invalid value encountered in greater\n",
      "/Users/Emily/anaconda3/lib/python3.7/site-packages/ipykernel_launcher.py:54: RuntimeWarning: invalid value encountered in greater\n"
     ]
    },
    {
     "name": "stdout",
     "output_type": "stream",
     "text": [
      "\n",
      "Additional non-data files were created\n",
      "\tNonsilent mode chosen, displaying additional content:\n",
      "\n",
      "File outFile.stat contains:\n",
      "Center points treated so far= 927\n",
      "Maximal epsilon in the moment= 1.667650e+01\n",
      "\n"
     ]
    },
    {
     "name": "stderr",
     "output_type": "stream",
     "text": [
      "/Users/Emily/anaconda3/lib/python3.7/site-packages/ipykernel_launcher.py:53: RuntimeWarning: invalid value encountered in greater\n",
      "/Users/Emily/anaconda3/lib/python3.7/site-packages/ipykernel_launcher.py:54: RuntimeWarning: invalid value encountered in greater\n"
     ]
    },
    {
     "name": "stdout",
     "output_type": "stream",
     "text": [
      "\n",
      "Additional non-data files were created\n",
      "\tNonsilent mode chosen, displaying additional content:\n",
      "\n",
      "File outFile.stat contains:\n",
      "Center points treated so far= 4951\n",
      "Maximal epsilon in the moment= 1.669477e+01\n",
      "\n"
     ]
    },
    {
     "name": "stderr",
     "output_type": "stream",
     "text": [
      "/Users/Emily/anaconda3/lib/python3.7/site-packages/ipykernel_launcher.py:53: RuntimeWarning: invalid value encountered in greater\n",
      "/Users/Emily/anaconda3/lib/python3.7/site-packages/ipykernel_launcher.py:54: RuntimeWarning: invalid value encountered in greater\n"
     ]
    },
    {
     "name": "stdout",
     "output_type": "stream",
     "text": [
      "\n",
      "Additional non-data files were created\n",
      "\tNonsilent mode chosen, displaying additional content:\n",
      "\n",
      "File outFile.stat contains:\n",
      "Center points treated so far= 4927\n",
      "Maximal epsilon in the moment= 1.669477e+01\n",
      "\n"
     ]
    },
    {
     "name": "stderr",
     "output_type": "stream",
     "text": [
      "/Users/Emily/anaconda3/lib/python3.7/site-packages/ipykernel_launcher.py:53: RuntimeWarning: invalid value encountered in greater\n",
      "/Users/Emily/anaconda3/lib/python3.7/site-packages/ipykernel_launcher.py:54: RuntimeWarning: invalid value encountered in greater\n"
     ]
    },
    {
     "name": "stdout",
     "output_type": "stream",
     "text": [
      "\n",
      "Additional non-data files were created\n",
      "\tNonsilent mode chosen, displaying additional content:\n",
      "\n",
      "File outFile.stat contains:\n",
      "Center points treated so far= 4955\n",
      "Maximal epsilon in the moment= 1.671745e+01\n",
      "\n"
     ]
    },
    {
     "name": "stderr",
     "output_type": "stream",
     "text": [
      "/Users/Emily/anaconda3/lib/python3.7/site-packages/ipykernel_launcher.py:53: RuntimeWarning: invalid value encountered in greater\n",
      "/Users/Emily/anaconda3/lib/python3.7/site-packages/ipykernel_launcher.py:54: RuntimeWarning: invalid value encountered in greater\n"
     ]
    },
    {
     "name": "stdout",
     "output_type": "stream",
     "text": [
      "\n",
      "Additional non-data files were created\n",
      "\tNonsilent mode chosen, displaying additional content:\n",
      "\n",
      "File outFile.stat contains:\n",
      "Center points treated so far= 4933\n",
      "Maximal epsilon in the moment= 1.671745e+01\n",
      "\n"
     ]
    },
    {
     "name": "stderr",
     "output_type": "stream",
     "text": [
      "/Users/Emily/anaconda3/lib/python3.7/site-packages/ipykernel_launcher.py:53: RuntimeWarning: invalid value encountered in greater\n",
      "/Users/Emily/anaconda3/lib/python3.7/site-packages/ipykernel_launcher.py:54: RuntimeWarning: invalid value encountered in greater\n"
     ]
    },
    {
     "name": "stdout",
     "output_type": "stream",
     "text": [
      "\n",
      "Additional non-data files were created\n",
      "\tNonsilent mode chosen, displaying additional content:\n",
      "\n",
      "File outFile.stat contains:\n",
      "Center points treated so far= 4949\n",
      "Maximal epsilon in the moment= 1.671841e+01\n",
      "\n"
     ]
    },
    {
     "name": "stderr",
     "output_type": "stream",
     "text": [
      "/Users/Emily/anaconda3/lib/python3.7/site-packages/ipykernel_launcher.py:53: RuntimeWarning: invalid value encountered in greater\n",
      "/Users/Emily/anaconda3/lib/python3.7/site-packages/ipykernel_launcher.py:54: RuntimeWarning: invalid value encountered in greater\n"
     ]
    },
    {
     "name": "stdout",
     "output_type": "stream",
     "text": [
      "\n",
      "Additional non-data files were created\n",
      "\tNonsilent mode chosen, displaying additional content:\n",
      "\n",
      "File outFile.stat contains:\n",
      "Center points treated so far= 4924\n",
      "Maximal epsilon in the moment= 1.671841e+01\n",
      "\n"
     ]
    },
    {
     "name": "stderr",
     "output_type": "stream",
     "text": [
      "/Users/Emily/anaconda3/lib/python3.7/site-packages/ipykernel_launcher.py:53: RuntimeWarning: invalid value encountered in greater\n",
      "/Users/Emily/anaconda3/lib/python3.7/site-packages/ipykernel_launcher.py:54: RuntimeWarning: invalid value encountered in greater\n"
     ]
    },
    {
     "name": "stdout",
     "output_type": "stream",
     "text": [
      "\n",
      "Additional non-data files were created\n",
      "\tNonsilent mode chosen, displaying additional content:\n",
      "\n",
      "File outFile.stat contains:\n",
      "Center points treated so far= 451\n",
      "Maximal epsilon in the moment= 1.584724e+01\n",
      "\n"
     ]
    },
    {
     "name": "stderr",
     "output_type": "stream",
     "text": [
      "/Users/Emily/anaconda3/lib/python3.7/site-packages/ipykernel_launcher.py:53: RuntimeWarning: invalid value encountered in greater\n",
      "/Users/Emily/anaconda3/lib/python3.7/site-packages/ipykernel_launcher.py:54: RuntimeWarning: invalid value encountered in greater\n"
     ]
    },
    {
     "name": "stdout",
     "output_type": "stream",
     "text": [
      "\n",
      "Additional non-data files were created\n",
      "\tNonsilent mode chosen, displaying additional content:\n",
      "\n",
      "File outFile.stat contains:\n",
      "Center points treated so far= 427\n",
      "Maximal epsilon in the moment= 1.584724e+01\n",
      "\n"
     ]
    },
    {
     "name": "stderr",
     "output_type": "stream",
     "text": [
      "/Users/Emily/anaconda3/lib/python3.7/site-packages/ipykernel_launcher.py:53: RuntimeWarning: invalid value encountered in greater\n",
      "/Users/Emily/anaconda3/lib/python3.7/site-packages/ipykernel_launcher.py:54: RuntimeWarning: invalid value encountered in greater\n"
     ]
    },
    {
     "name": "stdout",
     "output_type": "stream",
     "text": [
      "\n",
      "Additional non-data files were created\n",
      "\tNonsilent mode chosen, displaying additional content:\n",
      "\n",
      "File outFile.stat contains:\n",
      "Center points treated so far= 424\n",
      "Maximal epsilon in the moment= 1.647932e+01\n",
      "\n"
     ]
    },
    {
     "name": "stderr",
     "output_type": "stream",
     "text": [
      "/Users/Emily/anaconda3/lib/python3.7/site-packages/ipykernel_launcher.py:53: RuntimeWarning: invalid value encountered in greater\n",
      "/Users/Emily/anaconda3/lib/python3.7/site-packages/ipykernel_launcher.py:54: RuntimeWarning: invalid value encountered in greater\n"
     ]
    },
    {
     "name": "stdout",
     "output_type": "stream",
     "text": [
      "\n",
      "Additional non-data files were created\n",
      "\tNonsilent mode chosen, displaying additional content:\n",
      "\n",
      "File outFile.stat contains:\n",
      "Center points treated so far= 399\n",
      "Maximal epsilon in the moment= 1.647932e+01\n",
      "\n"
     ]
    },
    {
     "name": "stderr",
     "output_type": "stream",
     "text": [
      "/Users/Emily/anaconda3/lib/python3.7/site-packages/ipykernel_launcher.py:53: RuntimeWarning: invalid value encountered in greater\n",
      "/Users/Emily/anaconda3/lib/python3.7/site-packages/ipykernel_launcher.py:54: RuntimeWarning: invalid value encountered in greater\n"
     ]
    },
    {
     "name": "stdout",
     "output_type": "stream",
     "text": [
      "\n",
      "Additional non-data files were created\n",
      "\tNonsilent mode chosen, displaying additional content:\n",
      "\n",
      "File outFile.stat contains:\n",
      "Center points treated so far= 427\n",
      "Maximal epsilon in the moment= 1.655086e+01\n",
      "\n"
     ]
    },
    {
     "name": "stderr",
     "output_type": "stream",
     "text": [
      "/Users/Emily/anaconda3/lib/python3.7/site-packages/ipykernel_launcher.py:53: RuntimeWarning: invalid value encountered in greater\n",
      "/Users/Emily/anaconda3/lib/python3.7/site-packages/ipykernel_launcher.py:54: RuntimeWarning: invalid value encountered in greater\n"
     ]
    },
    {
     "name": "stdout",
     "output_type": "stream",
     "text": [
      "\n",
      "Additional non-data files were created\n",
      "\tNonsilent mode chosen, displaying additional content:\n",
      "\n",
      "File outFile.stat contains:\n",
      "Center points treated so far= 403\n",
      "Maximal epsilon in the moment= 1.655086e+01\n",
      "\n"
     ]
    },
    {
     "name": "stderr",
     "output_type": "stream",
     "text": [
      "/Users/Emily/anaconda3/lib/python3.7/site-packages/ipykernel_launcher.py:53: RuntimeWarning: invalid value encountered in greater\n",
      "/Users/Emily/anaconda3/lib/python3.7/site-packages/ipykernel_launcher.py:54: RuntimeWarning: invalid value encountered in greater\n"
     ]
    },
    {
     "name": "stdout",
     "output_type": "stream",
     "text": [
      "\n",
      "Additional non-data files were created\n",
      "\tNonsilent mode chosen, displaying additional content:\n",
      "\n",
      "File outFile.stat contains:\n",
      "Center points treated so far= 477\n",
      "Maximal epsilon in the moment= 1.663568e+01\n",
      "\n"
     ]
    },
    {
     "name": "stderr",
     "output_type": "stream",
     "text": [
      "/Users/Emily/anaconda3/lib/python3.7/site-packages/ipykernel_launcher.py:53: RuntimeWarning: invalid value encountered in greater\n",
      "/Users/Emily/anaconda3/lib/python3.7/site-packages/ipykernel_launcher.py:54: RuntimeWarning: invalid value encountered in greater\n"
     ]
    },
    {
     "name": "stdout",
     "output_type": "stream",
     "text": [
      "\n",
      "Additional non-data files were created\n",
      "\tNonsilent mode chosen, displaying additional content:\n",
      "\n",
      "File outFile.stat contains:\n",
      "Center points treated so far= 466\n",
      "Maximal epsilon in the moment= 1.663568e+01\n",
      "\n"
     ]
    },
    {
     "name": "stderr",
     "output_type": "stream",
     "text": [
      "/Users/Emily/anaconda3/lib/python3.7/site-packages/ipykernel_launcher.py:53: RuntimeWarning: invalid value encountered in greater\n",
      "/Users/Emily/anaconda3/lib/python3.7/site-packages/ipykernel_launcher.py:54: RuntimeWarning: invalid value encountered in greater\n"
     ]
    },
    {
     "name": "stdout",
     "output_type": "stream",
     "text": [
      "\n",
      "Additional non-data files were created\n",
      "\tNonsilent mode chosen, displaying additional content:\n",
      "\n",
      "File outFile.stat contains:\n",
      "Center points treated so far= 477\n",
      "Maximal epsilon in the moment= 1.661224e+01\n",
      "\n"
     ]
    },
    {
     "name": "stderr",
     "output_type": "stream",
     "text": [
      "/Users/Emily/anaconda3/lib/python3.7/site-packages/ipykernel_launcher.py:53: RuntimeWarning: invalid value encountered in greater\n",
      "/Users/Emily/anaconda3/lib/python3.7/site-packages/ipykernel_launcher.py:54: RuntimeWarning: invalid value encountered in greater\n"
     ]
    },
    {
     "name": "stdout",
     "output_type": "stream",
     "text": [
      "\n",
      "Additional non-data files were created\n",
      "\tNonsilent mode chosen, displaying additional content:\n",
      "\n",
      "File outFile.stat contains:\n",
      "Center points treated so far= 466\n",
      "Maximal epsilon in the moment= 1.661224e+01\n",
      "\n"
     ]
    },
    {
     "name": "stderr",
     "output_type": "stream",
     "text": [
      "/Users/Emily/anaconda3/lib/python3.7/site-packages/ipykernel_launcher.py:79: RuntimeWarning: divide by zero encountered in log10\n",
      "/Users/Emily/anaconda3/lib/python3.7/site-packages/ipykernel_launcher.py:53: RuntimeWarning: invalid value encountered in greater\n",
      "/Users/Emily/anaconda3/lib/python3.7/site-packages/ipykernel_launcher.py:54: RuntimeWarning: invalid value encountered in greater\n"
     ]
    },
    {
     "name": "stdout",
     "output_type": "stream",
     "text": [
      "\n",
      "Additional non-data files were created\n",
      "\tNonsilent mode chosen, displaying additional content:\n",
      "\n",
      "File outFile.stat contains:\n",
      "Center points treated so far= 475\n",
      "Maximal epsilon in the moment= 1.667650e+01\n",
      "\n"
     ]
    },
    {
     "name": "stderr",
     "output_type": "stream",
     "text": [
      "/Users/Emily/anaconda3/lib/python3.7/site-packages/ipykernel_launcher.py:53: RuntimeWarning: invalid value encountered in greater\n",
      "/Users/Emily/anaconda3/lib/python3.7/site-packages/ipykernel_launcher.py:54: RuntimeWarning: invalid value encountered in greater\n"
     ]
    },
    {
     "name": "stdout",
     "output_type": "stream",
     "text": [
      "\n",
      "Additional non-data files were created\n",
      "\tNonsilent mode chosen, displaying additional content:\n",
      "\n",
      "File outFile.stat contains:\n",
      "Center points treated so far= 463\n",
      "Maximal epsilon in the moment= 1.667650e+01\n",
      "\n"
     ]
    },
    {
     "name": "stderr",
     "output_type": "stream",
     "text": [
      "/Users/Emily/anaconda3/lib/python3.7/site-packages/ipykernel_launcher.py:53: RuntimeWarning: invalid value encountered in greater\n",
      "/Users/Emily/anaconda3/lib/python3.7/site-packages/ipykernel_launcher.py:54: RuntimeWarning: invalid value encountered in greater\n"
     ]
    },
    {
     "name": "stdout",
     "output_type": "stream",
     "text": [
      "\n",
      "Additional non-data files were created\n",
      "\tNonsilent mode chosen, displaying additional content:\n",
      "\n",
      "File outFile.stat contains:\n",
      "Center points treated so far= 2475\n",
      "Maximal epsilon in the moment= 1.669388e+01\n",
      "\n"
     ]
    },
    {
     "name": "stderr",
     "output_type": "stream",
     "text": [
      "/Users/Emily/anaconda3/lib/python3.7/site-packages/ipykernel_launcher.py:53: RuntimeWarning: invalid value encountered in greater\n",
      "/Users/Emily/anaconda3/lib/python3.7/site-packages/ipykernel_launcher.py:54: RuntimeWarning: invalid value encountered in greater\n"
     ]
    },
    {
     "name": "stdout",
     "output_type": "stream",
     "text": [
      "\n",
      "Additional non-data files were created\n",
      "\tNonsilent mode chosen, displaying additional content:\n",
      "\n",
      "File outFile.stat contains:\n",
      "Center points treated so far= 2463\n",
      "Maximal epsilon in the moment= 1.669388e+01\n",
      "\n"
     ]
    },
    {
     "name": "stderr",
     "output_type": "stream",
     "text": [
      "/Users/Emily/anaconda3/lib/python3.7/site-packages/ipykernel_launcher.py:53: RuntimeWarning: invalid value encountered in greater\n",
      "/Users/Emily/anaconda3/lib/python3.7/site-packages/ipykernel_launcher.py:54: RuntimeWarning: invalid value encountered in greater\n"
     ]
    },
    {
     "name": "stdout",
     "output_type": "stream",
     "text": [
      "\n",
      "Additional non-data files were created\n",
      "\tNonsilent mode chosen, displaying additional content:\n",
      "\n",
      "File outFile.stat contains:\n",
      "Center points treated so far= 2475\n",
      "Maximal epsilon in the moment= 1.671710e+01\n",
      "\n"
     ]
    },
    {
     "name": "stderr",
     "output_type": "stream",
     "text": [
      "/Users/Emily/anaconda3/lib/python3.7/site-packages/ipykernel_launcher.py:53: RuntimeWarning: invalid value encountered in greater\n",
      "/Users/Emily/anaconda3/lib/python3.7/site-packages/ipykernel_launcher.py:54: RuntimeWarning: invalid value encountered in greater\n"
     ]
    },
    {
     "name": "stdout",
     "output_type": "stream",
     "text": [
      "\n",
      "Additional non-data files were created\n",
      "\tNonsilent mode chosen, displaying additional content:\n",
      "\n",
      "File outFile.stat contains:\n",
      "Center points treated so far= 2463\n",
      "Maximal epsilon in the moment= 1.671710e+01\n",
      "\n"
     ]
    },
    {
     "name": "stderr",
     "output_type": "stream",
     "text": [
      "/Users/Emily/anaconda3/lib/python3.7/site-packages/ipykernel_launcher.py:53: RuntimeWarning: invalid value encountered in greater\n",
      "/Users/Emily/anaconda3/lib/python3.7/site-packages/ipykernel_launcher.py:54: RuntimeWarning: invalid value encountered in greater\n"
     ]
    },
    {
     "name": "stdout",
     "output_type": "stream",
     "text": [
      "\n",
      "Additional non-data files were created\n",
      "\tNonsilent mode chosen, displaying additional content:\n",
      "\n",
      "File outFile.stat contains:\n",
      "Center points treated so far= 2475\n",
      "Maximal epsilon in the moment= 1.671045e+01\n",
      "\n"
     ]
    },
    {
     "name": "stderr",
     "output_type": "stream",
     "text": [
      "/Users/Emily/anaconda3/lib/python3.7/site-packages/ipykernel_launcher.py:53: RuntimeWarning: invalid value encountered in greater\n",
      "/Users/Emily/anaconda3/lib/python3.7/site-packages/ipykernel_launcher.py:54: RuntimeWarning: invalid value encountered in greater\n"
     ]
    },
    {
     "name": "stdout",
     "output_type": "stream",
     "text": [
      "\n",
      "Additional non-data files were created\n",
      "\tNonsilent mode chosen, displaying additional content:\n",
      "\n",
      "File outFile.stat contains:\n",
      "Center points treated so far= 2463\n",
      "Maximal epsilon in the moment= 1.671045e+01\n",
      "\n"
     ]
    },
    {
     "name": "stderr",
     "output_type": "stream",
     "text": [
      "/Users/Emily/anaconda3/lib/python3.7/site-packages/ipykernel_launcher.py:53: RuntimeWarning: invalid value encountered in greater\n",
      "/Users/Emily/anaconda3/lib/python3.7/site-packages/ipykernel_launcher.py:54: RuntimeWarning: invalid value encountered in greater\n"
     ]
    },
    {
     "name": "stdout",
     "output_type": "stream",
     "text": [
      "\n",
      "Additional non-data files were created\n",
      "\tNonsilent mode chosen, displaying additional content:\n",
      "\n",
      "File outFile.stat contains:\n",
      "Center points treated so far= 223\n",
      "Maximal epsilon in the moment= 1.584724e+01\n",
      "\n"
     ]
    },
    {
     "name": "stderr",
     "output_type": "stream",
     "text": [
      "/Users/Emily/anaconda3/lib/python3.7/site-packages/ipykernel_launcher.py:79: RuntimeWarning: divide by zero encountered in log10\n",
      "/Users/Emily/anaconda3/lib/python3.7/site-packages/ipykernel_launcher.py:53: RuntimeWarning: invalid value encountered in greater\n",
      "/Users/Emily/anaconda3/lib/python3.7/site-packages/ipykernel_launcher.py:54: RuntimeWarning: invalid value encountered in greater\n"
     ]
    },
    {
     "name": "stdout",
     "output_type": "stream",
     "text": [
      "\n",
      "Additional non-data files were created\n",
      "\tNonsilent mode chosen, displaying additional content:\n",
      "\n",
      "File outFile.stat contains:\n",
      "Center points treated so far= 210\n",
      "Maximal epsilon in the moment= 1.584724e+01\n",
      "\n"
     ]
    },
    {
     "name": "stderr",
     "output_type": "stream",
     "text": [
      "/Users/Emily/anaconda3/lib/python3.7/site-packages/ipykernel_launcher.py:79: RuntimeWarning: divide by zero encountered in log10\n",
      "/Users/Emily/anaconda3/lib/python3.7/site-packages/ipykernel_launcher.py:53: RuntimeWarning: invalid value encountered in greater\n",
      "/Users/Emily/anaconda3/lib/python3.7/site-packages/ipykernel_launcher.py:54: RuntimeWarning: invalid value encountered in greater\n"
     ]
    },
    {
     "name": "stdout",
     "output_type": "stream",
     "text": [
      "\n",
      "Additional non-data files were created\n",
      "\tNonsilent mode chosen, displaying additional content:\n",
      "\n",
      "File outFile.stat contains:\n",
      "Center points treated so far= 225\n",
      "Maximal epsilon in the moment= 1.644936e+01\n",
      "\n"
     ]
    },
    {
     "name": "stderr",
     "output_type": "stream",
     "text": [
      "/Users/Emily/anaconda3/lib/python3.7/site-packages/ipykernel_launcher.py:79: RuntimeWarning: divide by zero encountered in log10\n",
      "/Users/Emily/anaconda3/lib/python3.7/site-packages/ipykernel_launcher.py:53: RuntimeWarning: invalid value encountered in greater\n",
      "/Users/Emily/anaconda3/lib/python3.7/site-packages/ipykernel_launcher.py:54: RuntimeWarning: invalid value encountered in greater\n"
     ]
    },
    {
     "name": "stdout",
     "output_type": "stream",
     "text": [
      "\n",
      "Additional non-data files were created\n",
      "\tNonsilent mode chosen, displaying additional content:\n",
      "\n",
      "File outFile.stat contains:\n",
      "Center points treated so far= 213\n",
      "Maximal epsilon in the moment= 1.644936e+01\n",
      "\n"
     ]
    },
    {
     "name": "stderr",
     "output_type": "stream",
     "text": [
      "/Users/Emily/anaconda3/lib/python3.7/site-packages/ipykernel_launcher.py:79: RuntimeWarning: divide by zero encountered in log10\n",
      "/Users/Emily/anaconda3/lib/python3.7/site-packages/ipykernel_launcher.py:53: RuntimeWarning: invalid value encountered in greater\n",
      "/Users/Emily/anaconda3/lib/python3.7/site-packages/ipykernel_launcher.py:54: RuntimeWarning: invalid value encountered in greater\n"
     ]
    },
    {
     "name": "stdout",
     "output_type": "stream",
     "text": [
      "\n",
      "Additional non-data files were created\n",
      "\tNonsilent mode chosen, displaying additional content:\n",
      "\n",
      "File outFile.stat contains:\n",
      "Center points treated so far= 227\n",
      "Maximal epsilon in the moment= 1.655086e+01\n",
      "\n"
     ]
    },
    {
     "name": "stderr",
     "output_type": "stream",
     "text": [
      "/Users/Emily/anaconda3/lib/python3.7/site-packages/ipykernel_launcher.py:79: RuntimeWarning: divide by zero encountered in log10\n",
      "/Users/Emily/anaconda3/lib/python3.7/site-packages/ipykernel_launcher.py:53: RuntimeWarning: invalid value encountered in greater\n",
      "/Users/Emily/anaconda3/lib/python3.7/site-packages/ipykernel_launcher.py:54: RuntimeWarning: invalid value encountered in greater\n"
     ]
    },
    {
     "name": "stdout",
     "output_type": "stream",
     "text": [
      "\n",
      "Additional non-data files were created\n",
      "\tNonsilent mode chosen, displaying additional content:\n",
      "\n",
      "File outFile.stat contains:\n",
      "Center points treated so far= 216\n",
      "Maximal epsilon in the moment= 1.655086e+01\n",
      "\n"
     ]
    },
    {
     "name": "stderr",
     "output_type": "stream",
     "text": [
      "/Users/Emily/anaconda3/lib/python3.7/site-packages/ipykernel_launcher.py:79: RuntimeWarning: divide by zero encountered in log10\n",
      "/Users/Emily/anaconda3/lib/python3.7/site-packages/ipykernel_launcher.py:53: RuntimeWarning: invalid value encountered in greater\n",
      "/Users/Emily/anaconda3/lib/python3.7/site-packages/ipykernel_launcher.py:54: RuntimeWarning: invalid value encountered in greater\n"
     ]
    },
    {
     "name": "stdout",
     "output_type": "stream",
     "text": [
      "\n",
      "Additional non-data files were created\n",
      "\tNonsilent mode chosen, displaying additional content:\n",
      "\n",
      "File outFile.stat contains:\n",
      "Center points treated so far= 97\n",
      "Maximal epsilon in the moment= 1.649167e+01\n",
      "\n"
     ]
    },
    {
     "name": "stderr",
     "output_type": "stream",
     "text": [
      "/Users/Emily/anaconda3/lib/python3.7/site-packages/ipykernel_launcher.py:53: RuntimeWarning: invalid value encountered in greater\n",
      "/Users/Emily/anaconda3/lib/python3.7/site-packages/ipykernel_launcher.py:54: RuntimeWarning: invalid value encountered in greater\n"
     ]
    },
    {
     "name": "stdout",
     "output_type": "stream",
     "text": [
      "\n",
      "Additional non-data files were created\n",
      "\tNonsilent mode chosen, displaying additional content:\n",
      "\n",
      "File outFile.stat contains:\n",
      "Center points treated so far= 96\n",
      "Maximal epsilon in the moment= 1.649167e+01\n",
      "\n"
     ]
    },
    {
     "name": "stderr",
     "output_type": "stream",
     "text": [
      "/Users/Emily/anaconda3/lib/python3.7/site-packages/ipykernel_launcher.py:79: RuntimeWarning: divide by zero encountered in log10\n",
      "/Users/Emily/anaconda3/lib/python3.7/site-packages/ipykernel_launcher.py:53: RuntimeWarning: invalid value encountered in greater\n",
      "/Users/Emily/anaconda3/lib/python3.7/site-packages/ipykernel_launcher.py:54: RuntimeWarning: invalid value encountered in greater\n"
     ]
    },
    {
     "name": "stdout",
     "output_type": "stream",
     "text": [
      "\n",
      "Additional non-data files were created\n",
      "\tNonsilent mode chosen, displaying additional content:\n",
      "\n",
      "File outFile.stat contains:\n",
      "Center points treated so far= 96\n",
      "Maximal epsilon in the moment= 1.652562e+01\n",
      "\n"
     ]
    },
    {
     "name": "stderr",
     "output_type": "stream",
     "text": [
      "/Users/Emily/anaconda3/lib/python3.7/site-packages/ipykernel_launcher.py:79: RuntimeWarning: divide by zero encountered in log10\n",
      "/Users/Emily/anaconda3/lib/python3.7/site-packages/ipykernel_launcher.py:53: RuntimeWarning: invalid value encountered in greater\n",
      "/Users/Emily/anaconda3/lib/python3.7/site-packages/ipykernel_launcher.py:54: RuntimeWarning: invalid value encountered in greater\n"
     ]
    },
    {
     "name": "stdout",
     "output_type": "stream",
     "text": [
      "\n",
      "Additional non-data files were created\n",
      "\tNonsilent mode chosen, displaying additional content:\n",
      "\n",
      "File outFile.stat contains:\n",
      "Center points treated so far= 95\n",
      "Maximal epsilon in the moment= 1.652562e+01\n",
      "\n"
     ]
    },
    {
     "name": "stderr",
     "output_type": "stream",
     "text": [
      "/Users/Emily/anaconda3/lib/python3.7/site-packages/ipykernel_launcher.py:79: RuntimeWarning: divide by zero encountered in log10\n",
      "/Users/Emily/anaconda3/lib/python3.7/site-packages/ipykernel_launcher.py:53: RuntimeWarning: invalid value encountered in greater\n",
      "/Users/Emily/anaconda3/lib/python3.7/site-packages/ipykernel_launcher.py:54: RuntimeWarning: invalid value encountered in greater\n"
     ]
    },
    {
     "name": "stdout",
     "output_type": "stream",
     "text": [
      "\n",
      "Additional non-data files were created\n",
      "\tNonsilent mode chosen, displaying additional content:\n",
      "\n",
      "File outFile.stat contains:\n",
      "Center points treated so far= 96\n",
      "Maximal epsilon in the moment= 1.658963e+01\n",
      "\n"
     ]
    },
    {
     "name": "stderr",
     "output_type": "stream",
     "text": [
      "/Users/Emily/anaconda3/lib/python3.7/site-packages/ipykernel_launcher.py:79: RuntimeWarning: divide by zero encountered in log10\n",
      "/Users/Emily/anaconda3/lib/python3.7/site-packages/ipykernel_launcher.py:53: RuntimeWarning: invalid value encountered in greater\n",
      "/Users/Emily/anaconda3/lib/python3.7/site-packages/ipykernel_launcher.py:54: RuntimeWarning: invalid value encountered in greater\n"
     ]
    },
    {
     "name": "stdout",
     "output_type": "stream",
     "text": [
      "\n",
      "Additional non-data files were created\n",
      "\tNonsilent mode chosen, displaying additional content:\n",
      "\n",
      "File outFile.stat contains:\n",
      "Center points treated so far= 95\n",
      "Maximal epsilon in the moment= 1.658963e+01\n",
      "\n"
     ]
    },
    {
     "name": "stderr",
     "output_type": "stream",
     "text": [
      "/Users/Emily/anaconda3/lib/python3.7/site-packages/ipykernel_launcher.py:79: RuntimeWarning: divide by zero encountered in log10\n",
      "/Users/Emily/anaconda3/lib/python3.7/site-packages/ipykernel_launcher.py:53: RuntimeWarning: invalid value encountered in greater\n",
      "/Users/Emily/anaconda3/lib/python3.7/site-packages/ipykernel_launcher.py:54: RuntimeWarning: invalid value encountered in greater\n"
     ]
    },
    {
     "name": "stdout",
     "output_type": "stream",
     "text": [
      "\n",
      "Additional non-data files were created\n",
      "\tNonsilent mode chosen, displaying additional content:\n",
      "\n",
      "File outFile.stat contains:\n",
      "Center points treated so far= 496\n",
      "Maximal epsilon in the moment= 1.655111e+01\n",
      "\n"
     ]
    },
    {
     "name": "stderr",
     "output_type": "stream",
     "text": [
      "/Users/Emily/anaconda3/lib/python3.7/site-packages/ipykernel_launcher.py:53: RuntimeWarning: invalid value encountered in greater\n",
      "/Users/Emily/anaconda3/lib/python3.7/site-packages/ipykernel_launcher.py:54: RuntimeWarning: invalid value encountered in greater\n"
     ]
    },
    {
     "name": "stdout",
     "output_type": "stream",
     "text": [
      "\n",
      "Additional non-data files were created\n",
      "\tNonsilent mode chosen, displaying additional content:\n",
      "\n",
      "File outFile.stat contains:\n",
      "Center points treated so far= 495\n",
      "Maximal epsilon in the moment= 1.655111e+01\n",
      "\n"
     ]
    },
    {
     "name": "stderr",
     "output_type": "stream",
     "text": [
      "/Users/Emily/anaconda3/lib/python3.7/site-packages/ipykernel_launcher.py:53: RuntimeWarning: invalid value encountered in greater\n",
      "/Users/Emily/anaconda3/lib/python3.7/site-packages/ipykernel_launcher.py:54: RuntimeWarning: invalid value encountered in greater\n"
     ]
    },
    {
     "name": "stdout",
     "output_type": "stream",
     "text": [
      "\n",
      "Additional non-data files were created\n",
      "\tNonsilent mode chosen, displaying additional content:\n",
      "\n",
      "File outFile.stat contains:\n",
      "Center points treated so far= 496\n",
      "Maximal epsilon in the moment= 1.666654e+01\n",
      "\n"
     ]
    },
    {
     "name": "stderr",
     "output_type": "stream",
     "text": [
      "/Users/Emily/anaconda3/lib/python3.7/site-packages/ipykernel_launcher.py:53: RuntimeWarning: invalid value encountered in greater\n",
      "/Users/Emily/anaconda3/lib/python3.7/site-packages/ipykernel_launcher.py:54: RuntimeWarning: invalid value encountered in greater\n"
     ]
    },
    {
     "name": "stdout",
     "output_type": "stream",
     "text": [
      "\n",
      "Additional non-data files were created\n",
      "\tNonsilent mode chosen, displaying additional content:\n",
      "\n",
      "File outFile.stat contains:\n",
      "Center points treated so far= 495\n",
      "Maximal epsilon in the moment= 1.666654e+01\n",
      "\n"
     ]
    },
    {
     "name": "stderr",
     "output_type": "stream",
     "text": [
      "/Users/Emily/anaconda3/lib/python3.7/site-packages/ipykernel_launcher.py:53: RuntimeWarning: invalid value encountered in greater\n",
      "/Users/Emily/anaconda3/lib/python3.7/site-packages/ipykernel_launcher.py:54: RuntimeWarning: invalid value encountered in greater\n"
     ]
    },
    {
     "name": "stdout",
     "output_type": "stream",
     "text": [
      "\n",
      "Additional non-data files were created\n",
      "\tNonsilent mode chosen, displaying additional content:\n",
      "\n",
      "File outFile.stat contains:\n",
      "Center points treated so far= 496\n",
      "Maximal epsilon in the moment= 1.671045e+01\n",
      "\n"
     ]
    },
    {
     "name": "stderr",
     "output_type": "stream",
     "text": [
      "/Users/Emily/anaconda3/lib/python3.7/site-packages/ipykernel_launcher.py:53: RuntimeWarning: invalid value encountered in greater\n",
      "/Users/Emily/anaconda3/lib/python3.7/site-packages/ipykernel_launcher.py:54: RuntimeWarning: invalid value encountered in greater\n"
     ]
    },
    {
     "name": "stdout",
     "output_type": "stream",
     "text": [
      "\n",
      "Additional non-data files were created\n",
      "\tNonsilent mode chosen, displaying additional content:\n",
      "\n",
      "File outFile.stat contains:\n",
      "Center points treated so far= 495\n",
      "Maximal epsilon in the moment= 1.671045e+01\n",
      "\n"
     ]
    },
    {
     "name": "stderr",
     "output_type": "stream",
     "text": [
      "/Users/Emily/anaconda3/lib/python3.7/site-packages/ipykernel_launcher.py:53: RuntimeWarning: invalid value encountered in greater\n",
      "/Users/Emily/anaconda3/lib/python3.7/site-packages/ipykernel_launcher.py:54: RuntimeWarning: invalid value encountered in greater\n"
     ]
    },
    {
     "name": "stdout",
     "output_type": "stream",
     "text": [
      "\n",
      "Additional non-data files were created\n",
      "\tNonsilent mode chosen, displaying additional content:\n",
      "\n",
      "File outFile.stat contains:\n",
      "Center points treated so far= 45\n",
      "Maximal epsilon in the moment= 1.546016e+01\n",
      "\n"
     ]
    },
    {
     "name": "stderr",
     "output_type": "stream",
     "text": [
      "/Users/Emily/anaconda3/lib/python3.7/site-packages/ipykernel_launcher.py:79: RuntimeWarning: divide by zero encountered in log10\n",
      "/Users/Emily/anaconda3/lib/python3.7/site-packages/ipykernel_launcher.py:53: RuntimeWarning: invalid value encountered in greater\n",
      "/Users/Emily/anaconda3/lib/python3.7/site-packages/ipykernel_launcher.py:54: RuntimeWarning: invalid value encountered in greater\n"
     ]
    },
    {
     "name": "stdout",
     "output_type": "stream",
     "text": [
      "\n",
      "Additional non-data files were created\n",
      "\tNonsilent mode chosen, displaying additional content:\n",
      "\n",
      "File outFile.stat contains:\n",
      "Center points treated so far= 43\n",
      "Maximal epsilon in the moment= 1.546016e+01\n",
      "\n"
     ]
    },
    {
     "name": "stderr",
     "output_type": "stream",
     "text": [
      "/Users/Emily/anaconda3/lib/python3.7/site-packages/ipykernel_launcher.py:79: RuntimeWarning: divide by zero encountered in log10\n",
      "/Users/Emily/anaconda3/lib/python3.7/site-packages/ipykernel_launcher.py:53: RuntimeWarning: invalid value encountered in greater\n",
      "/Users/Emily/anaconda3/lib/python3.7/site-packages/ipykernel_launcher.py:54: RuntimeWarning: invalid value encountered in greater\n"
     ]
    },
    {
     "name": "stdout",
     "output_type": "stream",
     "text": [
      "\n",
      "Additional non-data files were created\n",
      "\tNonsilent mode chosen, displaying additional content:\n",
      "\n",
      "File outFile.stat contains:\n",
      "Center points treated so far= 47\n",
      "Maximal epsilon in the moment= 1.597902e+01\n",
      "\n"
     ]
    },
    {
     "name": "stderr",
     "output_type": "stream",
     "text": [
      "/Users/Emily/anaconda3/lib/python3.7/site-packages/ipykernel_launcher.py:79: RuntimeWarning: divide by zero encountered in log10\n",
      "/Users/Emily/anaconda3/lib/python3.7/site-packages/ipykernel_launcher.py:53: RuntimeWarning: invalid value encountered in greater\n",
      "/Users/Emily/anaconda3/lib/python3.7/site-packages/ipykernel_launcher.py:54: RuntimeWarning: invalid value encountered in greater\n"
     ]
    },
    {
     "name": "stdout",
     "output_type": "stream",
     "text": [
      "\n",
      "Additional non-data files were created\n",
      "\tNonsilent mode chosen, displaying additional content:\n",
      "\n",
      "File outFile.stat contains:\n",
      "Center points treated so far= 46\n",
      "Maximal epsilon in the moment= 1.597902e+01\n",
      "\n"
     ]
    },
    {
     "name": "stderr",
     "output_type": "stream",
     "text": [
      "/Users/Emily/anaconda3/lib/python3.7/site-packages/ipykernel_launcher.py:79: RuntimeWarning: divide by zero encountered in log10\n",
      "/Users/Emily/anaconda3/lib/python3.7/site-packages/ipykernel_launcher.py:53: RuntimeWarning: invalid value encountered in greater\n",
      "/Users/Emily/anaconda3/lib/python3.7/site-packages/ipykernel_launcher.py:54: RuntimeWarning: invalid value encountered in greater\n"
     ]
    },
    {
     "name": "stdout",
     "output_type": "stream",
     "text": [
      "\n",
      "Additional non-data files were created\n",
      "\tNonsilent mode chosen, displaying additional content:\n",
      "\n",
      "File outFile.stat contains:\n",
      "Center points treated so far= 37\n",
      "Maximal epsilon in the moment= 1.648759e+01\n",
      "\n"
     ]
    },
    {
     "name": "stderr",
     "output_type": "stream",
     "text": [
      "/Users/Emily/anaconda3/lib/python3.7/site-packages/ipykernel_launcher.py:79: RuntimeWarning: divide by zero encountered in log10\n",
      "/Users/Emily/anaconda3/lib/python3.7/site-packages/ipykernel_launcher.py:53: RuntimeWarning: invalid value encountered in greater\n",
      "/Users/Emily/anaconda3/lib/python3.7/site-packages/ipykernel_launcher.py:54: RuntimeWarning: invalid value encountered in greater\n"
     ]
    },
    {
     "name": "stdout",
     "output_type": "stream",
     "text": [
      "\n",
      "Additional non-data files were created\n",
      "\tNonsilent mode chosen, displaying additional content:\n",
      "\n",
      "File outFile.stat contains:\n",
      "Center points treated so far= 31\n",
      "Maximal epsilon in the moment= 1.648759e+01\n",
      "\n"
     ]
    },
    {
     "name": "stderr",
     "output_type": "stream",
     "text": [
      "/Users/Emily/anaconda3/lib/python3.7/site-packages/ipykernel_launcher.py:79: RuntimeWarning: divide by zero encountered in log10\n"
     ]
    },
    {
     "data": {
      "image/png": "[encoded data removed]",
      "text/plain": [
       "<Figure size 1728x864 with 9 Axes>"
      ]
     },
     "metadata": {
      "needs_background": "light"
     },
     "output_type": "display_data"
    }
   ],
   "source": [
    "# \"true\" C2 values from Sprott & Rowlands 2000\n",
    "lorenz_C2_lower = 2.049-0.096\n",
    "lorenz_C2_upper = 2.049+0.096\n",
    "lorenz_KY = 2.062\n",
    "rossler_C2_lower = 1.986-0.078\n",
    "rossler_C2_upper = 1.986+0.078\n",
    "rossler_KY = 2.013\n",
    "\n",
    "fig, axes = plt.subplots(3,3,figsize=(24,12))\n",
    "counters = np.zeros((3,3,3))\n",
    "for f in transformed_rossler_C0:\n",
    "    #print(f)\n",
    "    #C0 = np.load(f)\n",
    "    #C1 = np.load(\"./corrDimTesting/\" + fileName[:-2] + \"C1.npy\")\n",
    "    C2 = np.load(f[:-6] + \"C2.npy\")\n",
    "    nArr = np.load(f[:-6] + \"nArr.npy\")\n",
    "    #print(np.shape(nArr))\n",
    "    \n",
    "    Pq = float(f.split(\"Pq=\")[1].split(\"_\")[0])\n",
    "    #print(Pq)\n",
    "    cad = float(f.split(\"cad=\")[1].split(\"_\")[0])\n",
    "    #print(cad)\n",
    "    Ncyc = int(f.split(\"Ncyc=\")[1].split(\"_\")[0])\n",
    "    #print(Ncyc)\n",
    "    version = int(f.split(\"_v\")[1].split(\"_\")[0])\n",
    "    #print(version)\n",
    "    tau = int(f.split(\"tau=\")[1].split(\"_\")[0])\n",
    "    #print(tau)\n",
    "    m = int(f.split(\"m=\")[1].split(\"_\")[0])\n",
    "    #print(m)\n",
    "    \n",
    "    varname = f.split(\"transformed_rossler_\")[1][0]\n",
    "    \n",
    "    ts_f = \"./corrDimTesting/transformed_rossler/transformed_rossler_{0}_Pq={1}_cad={2}_Ncyc={3}_v{4}.npy\".format(varname,Pq,cad,Ncyc,version)\n",
    "    \n",
    "    timeSeries = np.load(ts_f)\n",
    "    \n",
    "    N = np.shape(nArr)[0]\n",
    "    medians = np.percentile(nArr, 50, axis=0)\n",
    "        \n",
    "    # exclude values of r where the median of n(r) is <= 10./N . Cutoff is a little arbitrary but the idea is that these points don't have enough neighbors.\n",
    "    #enoughNeighborsIdxs = np.arange(len(rArr))[medians > 10./N]\n",
    "    #firstGood = enoughNeighborsIdxs[0]\n",
    "    \n",
    "    # exclude values of r where any n(r) are NaN. The time series is not long enough to populate all the neighbors of the points.\n",
    "    #anyNans = [np.any(~np.isfinite(nArr[:,i])) for i in range(len(rArr))]\n",
    "    #anyNans = np.array(anyNans)\n",
    "    #nansIdxs = np.arange(len(rArr))[anyNans]\n",
    "    #lastGood = nansIdxs[0]\n",
    "    \n",
    "    # My code to calculate C2\n",
    "    try:\n",
    "        params_C2, params_unc_C2 = sp.fitLinearRegime(rArr, nArr, C2)\n",
    "        params_dist, params_dist_1sigma = sp.powerLawSlopeDistribution(rArr, nArr)\n",
    "    except IndexError:\n",
    "        params_C2 = np.zeros_like(params_C2)\n",
    "        params_unc_C2 = np.zeros_like(params_unc_C2)\n",
    "        params_C2[:] = np.nan\n",
    "        params_unc_C2[:] = np.nan\n",
    "        \n",
    "        params_dist = np.zeros_like(params_dist)\n",
    "        params_dist_1sigma = np.zeros_like(params_dist_1sigma)\n",
    "        params_dist[:] = np.nan\n",
    "        params_dist_1sigma[:] = np.nan\n",
    "    \n",
    "    #TISEAN C2 calculation\n",
    "    # Multiple output command example (d2)\n",
    "    d2_out, msg = tiseanio(\"d2\", '-N', '0', '-M', '1,{0}'.format(m), '-d', '{0}'.format(tau), \"-V\", \"0\", data=timeSeries)\n",
    "    \n",
    "    # need to figure out the Thelier window but just in the interest of getting the plotting code working:\n",
    "    \"\"\"\n",
    "    fig3,ax3 = plt.subplots(1,1,figsize=(8,6))\n",
    "    ax3.plot(d2_out[\"c2\"][:,0])\n",
    "    plt.show()\n",
    "    \"\"\"\n",
    "    tisean_r_arr = d2_out[\"c2\"][-78:-42,0][::-1]\n",
    "    tisean_C2_arr = d2_out[\"c2\"][-78:-42:,1][::-1]\n",
    "    \n",
    "    tisean_params, tisean_params_unc = sp.normal_equation(x=np.log10(tisean_r_arr), y=np.log10(tisean_C2_arr), yerr=np.ones_like(tisean_C2_arr), order=2)\n",
    "    \n",
    "    \"\"\"\n",
    "    fig2, axes2 = plt.subplots(2,1,figsize=(8,12))\n",
    "    axes2[0].scatter(d2_out[\"c2\"][:,0], d2_out[\"c2\"][:,1],s=5)\n",
    "    axes2[0].scatter(tisean_r_arr,tisean_C2_arr,s=10,color='y',alpha=0.5)\n",
    "\n",
    "    axes2[0].set_yscale('log')\n",
    "    axes2[0].set_ylim([1e-7,1])\n",
    "    axes2[0].set_xscale('log')\n",
    "    axes2[0].set_xlabel(\"length scale\")\n",
    "    axes2[0].set_ylabel(\"correlation sum\")\n",
    "\n",
    "    # plot output d2\n",
    "    axes2[1].scatter(d2_out[\"d2\"][:,0], d2_out[\"d2\"][:,1],s=5)\n",
    "    #axes2[1].set_yscale('log')\n",
    "    axes2[1].set_xscale('log')\n",
    "    axes2[1].set_xlabel(\"length scale\")\n",
    "    axes2[1].set_ylabel(\"correlation dimension\")\n",
    "    plt.show()\n",
    "    \"\"\"\n",
    "    \n",
    "    \n",
    "    \"\"\"\n",
    "    fig, ax = plt.subplots(1,1,figsize=(8,6))\n",
    "    for i in range(len(params_dist)):\n",
    "        #ax.plot(rArr, nArr[i], 'k-', marker='None', lw=1, alpha=0.1)\n",
    "        #ax.plot(rArr[firstGood:lastGood], nArr[i][firstGood:lastGood], 'k-', marker='None', lw=1, alpha=0.1)\n",
    "        ax.plot(rArr[firstGood:lastGood], (10**params_dist[i][1])*rArr[firstGood:lastGood]**params_dist[i][0], 'r-', marker='None', lw=1, alpha=0.1)\n",
    "    #ax.plot(rArr, C2, 'ko', ls=\"None\")\n",
    "    ax.plot(rArr[firstGood:lastGood], C2[firstGood:lastGood], 'ko', ls=\"None\")\n",
    "    print(params_C2[1])\n",
    "    ax.plot(rArr[firstGood:lastGood], (10**params_C2[1])*rArr[firstGood:lastGood]**params_C2[0], 'b-', marker='None', lw=2, alpha=1)\n",
    "    ax.set_xscale(\"log\")\n",
    "    ax.set_yscale(\"log\")\n",
    "    plt.show()\n",
    "    \"\"\"\n",
    "    \n",
    "    if cad==0.01:\n",
    "        idx_0 = 0\n",
    "    elif cad==0.05:\n",
    "        idx_0 = 1\n",
    "    elif cad==0.1:\n",
    "        idx_0 = 2\n",
    "\n",
    "    if \"_x_\" in f:\n",
    "        idx_1 = 0\n",
    "    elif \"_y_\" in f:\n",
    "        idx_1 = 1\n",
    "    elif \"_z_\" in f:\n",
    "        idx_1 = 2\n",
    "\n",
    "    if Ncyc==5:\n",
    "        start_x = 1\n",
    "        color = 'b'\n",
    "        idx_2 = 0\n",
    "    elif Ncyc==10:\n",
    "        start_x = 2\n",
    "        color = 'r'\n",
    "        idx_2 = 1\n",
    "    elif Ncyc==50:\n",
    "        start_x = 3\n",
    "        color = 'g'\n",
    "        idx_2 = 2\n",
    "\n",
    "    #\n",
    "    #for i in range(len(params_dist)):\n",
    "    #    axes[idx_0,idx_1].plot(start_x + 0.15*counters[idx_0,idx_1,idx_2], params_dist[i][0],marker='o', color='k',ms=3,alpha=0.05,zorder=i)\n",
    "    \n",
    "    # my C2 calculation overall\n",
    "    axes[idx_0,idx_1].errorbar(start_x + 0.15*counters[idx_0,idx_1,idx_2], params_C2[0], np.sqrt(params_unc_C2[0,0]), marker='*', color=color, elinewidth=1.5,alpha=1.,zorder=2)\n",
    "    axes[idx_0,idx_1].errorbar(start_x + 0.15*counters[idx_0,idx_1,idx_2], params_C2[0], 2*np.sqrt(params_unc_C2[0,0]), marker='None', color=color, elinewidth=0.75,alpha=0.5,zorder=1)\n",
    "    \n",
    "    p16 = np.percentile(params_dist[:,0],16)\n",
    "    p50 = np.percentile(params_dist[:,0],50)\n",
    "    v_mean = np.mean(params_dist[:,0])\n",
    "    p84 = np.percentile(params_dist[:,0],84)\n",
    "    \n",
    "    #my C2 calculation from the v_i distribution\n",
    "    axes[idx_0,idx_1].plot(start_x + 0.05 + 0.15*counters[idx_0,idx_1,idx_2],p50, marker='o',ms=4,color=color,lw=1.,alpha=1,zorder=2)\n",
    "    axes[idx_0,idx_1].plot(start_x + 0.05 + 0.15*counters[idx_0,idx_1,idx_2],v_mean, marker='*',ms=4,color=color,lw=1.,alpha=1,zorder=2)\n",
    "    axes[idx_0,idx_1].vlines(x=start_x + 0.05 + 0.15*counters[idx_0,idx_1,idx_2], ymin=p16, ymax=p84, color=color,lw=1.,alpha=1,zorder=1)\n",
    "    \n",
    "    #TISEAN \n",
    "    axes[idx_0,idx_1].plot(start_x + 0.075 + 0.15*counters[idx_0,idx_1,idx_2],tisean_params[0], marker='x',ms=8,color=color,lw=1.,alpha=1,zorder=2)\n",
    "    \n",
    "    axes[idx_0,idx_1].annotate(r\"$m={0},\\tau={1}$\".format(m,tau), (start_x -0.05 + 0.15*counters[idx_0,idx_1,idx_2], params_C2[0]+1.5*np.sqrt(params_unc_C2[0,0])),rotation=90,color=color,fontsize=8,zorder=3)   \n",
    "    axes[idx_0,idx_1].annotate(r\"$\\nu_i$ dist\".format(m,tau), (start_x + 0.02 + 0.15*counters[idx_0,idx_1,idx_2], params_C2[0]+2*np.sqrt(params_unc_C2[0,0])),rotation=90,color=color,fontsize=8,zorder=3)   \n",
    "\n",
    "    counters[idx_0,idx_1,idx_2] += 1\n",
    "\n",
    "\n",
    "axes[0,0].set_ylabel(\"cad = 0.01Pq\", fontsize=12)\n",
    "axes[1,0].set_ylabel(\"cad = 0.05Pq\", fontsize=12)\n",
    "axes[2,0].set_ylabel(\"cad = 0.1Pq\", fontsize=12)\n",
    "\n",
    "\n",
    "axes[0,0].set_title(\"transformed Rossler x\", fontsize=12)\n",
    "axes[0,1].set_title(\"transformed Rossler y\", fontsize=12)\n",
    "axes[0,2].set_title(\"transformed Rossler z\", fontsize=12)\n",
    "\n",
    "x_fb = np.linspace(0.,4.,3)\n",
    "\n",
    "for ax in np.ravel(axes):\n",
    "    ax.fill_between(x = x_fb, y1 = rossler_C2_lower*np.ones_like(x_fb), y2 = rossler_C2_upper*np.ones_like(x_fb), color='k',alpha=0.1,zorder=1)\n",
    "    ax.axhline(y=rossler_KY, ls=\":\", color='k',zorder=2)\n",
    "    ax.set_xticks([1,2,3])\n",
    "    ax.set_xticklabels([\"Ncyc=5\",\"Ncyc=10\",\"Ncyc=50\"])\n",
    "    ax.set_xlim(0.8,4.)\n",
    "    ax.set_ylim(0.,3.5)\n",
    "    \n",
    "\n",
    "plt.subplots_adjust(hspace=0.1,wspace=0.1)\n",
    "#plt.show()\n",
    "plt.savefig(\"./plots/gp1983implementation/transformed_rossler_recoveredPowerLawSlope_severalTrials.pdf\")\n"
   ]
  }
 ],
 "metadata": {
  "kernelspec": {
   "display_name": "Python 3 (ipykernel)",
   "language": "python",
   "name": "python3"
  },
  "language_info": {
   "codemirror_mode": {
    "name": "ipython",
    "version": 3
   },
   "file_extension": ".py",
   "mimetype": "text/x-python",
   "name": "python",
   "nbconvert_exporter": "python",
   "pygments_lexer": "ipython3",
   "version": "3.7.11"
  }
 },
 "nbformat": 4,
 "nbformat_minor": 5
}
