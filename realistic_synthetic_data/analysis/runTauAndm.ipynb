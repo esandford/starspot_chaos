{
 "cells": [
  {
   "cell_type": "code",
   "execution_count": 2,
   "id": "4d2d71d4-901a-4a24-8044-f37b0251e7e3",
   "metadata": {},
   "outputs": [],
   "source": [
    "import spotchaos.syntheticSignals as sp\n",
    "\n",
    "import matplotlib\n",
    "import numpy as np\n",
    "import matplotlib.pyplot as plt\n",
    "import matplotlib.gridspec as gridspec\n",
    "import matplotlib.animation as animation\n",
    "from matplotlib.animation import TimedAnimation\n",
    "from mpl_toolkits import mplot3d\n",
    "from mpl_toolkits.axes_grid1 import make_axes_locatable\n",
    "import time\n",
    "import pickle\n",
    "\n",
    "import os\n",
    "from astropy.timeseries import LombScargle\n",
    "from scipy.integrate import RK45, DOP853\n",
    "from scipy.stats import chi2, iqr\n",
    "from scipy.signal import argrelextrema, savgol_filter, find_peaks_cwt\n",
    "from scipy.spatial.distance import chebyshev\n",
    "from scipy.optimize import curve_fit\n",
    "\n",
    "from pytisean import tiseano, tiseanio\n",
    "\n",
    "from sklearn.neighbors import KDTree, BallTree\n",
    "from scipy.spatial import KDTree as scipyKDTree\n",
    "\n",
    "#%matplotlib inline"
   ]
  },
  {
   "cell_type": "code",
   "execution_count": 3,
   "id": "a002f94c-ccec-44eb-a541-da15f9fb4cea",
   "metadata": {
    "tags": []
   },
   "outputs": [],
   "source": [
    "# Time series:\n",
    "# 0. White noise\n",
    "# 1. stationary GP time series\n",
    "# 2. Simple periodic\n",
    "# 3. KB88 R(t)\n",
    "# 4. Rossler x, y, z\n",
    "# 5. Transformed rossler u, v, w\n",
    "# 6. Lorenz x, y, z\n",
    "\n",
    "# and for each we have 3 baselines: TESS (perfect = 257062 data points), Kepler (perfect = 71422 data points), SPECULOOS (perfect = 44119 data points)\n",
    "#                   and 4 versions: perfect, gapless+noisy, gappy+noiseless, realistic\n",
    "# yielding 13*3*4 = 156 time series to analyze altogether. (But only 78 files, because the perfect and noisy versions are in the same file.)\n",
    "\n",
    "# Need to choose:\n",
    "# 1. time delay (Fraser & Swinney 1986)\n",
    "# 2. embedding dimension (Cao 1997)\n",
    "# and then calculate\n",
    "# 1. correlation dimension (Kurths & Herzel 1987; investigate pytisean too. Look into Thelier window.)\n",
    "# 2. Lyapunov spectrum (Wolf et al. 1985)\n",
    "# 3. Lyapunov dimension (Kaplan-Yorke conjecture; see Eckmann & Ruelle 1985 eq 4.11).\n",
    "\n",
    "# Expected results:\n",
    "# 0. White noise should have no good choice of time delay; mutual info as a function of delay time should be flat.\n",
    "# 1. Not sure!\n",
    "# 2. Simple periodic and KB88 R(t) results should be similar to KB88 figures 9 and 10.\n",
    "# 3. same\n",
    "# 4. Rossler x, y, and z should yield time delay ~ 1/4*rossler_qp and embedding dimension of 3. Rossler z results should be worse than x and y.\n",
    "# 5. Transformed Rossler u, v, and w should yield time delay ~1/4*transformed_rossler_qp and embedding dimension of 3. Variables should be about equally good.\n",
    "# 6. Lorenz x, y, and z should yield time delay ~1/4*lorenz_qp and embedding dimension of 3. z dimension will be insensitive to wing symmetry.\n"
   ]
  },
  {
   "cell_type": "code",
   "execution_count": 4,
   "id": "813c4bcc-2b1b-4c51-90a3-60ba5f8fb174",
   "metadata": {
    "tags": []
   },
   "outputs": [],
   "source": [
    "folderpaths = ['0_gaussian_noise',\n",
    "               '1_gaussian_process',\n",
    "               '2_simple_periodic',\n",
    "               '3_KB88_r',\n",
    "               '4_rossler',\n",
    "               '5_transformed_rossler',\n",
    "               '6_lorenz']"
   ]
  },
  {
   "cell_type": "code",
   "execution_count": 5,
   "id": "4315bc06-ccd0-4094-a5f2-f12dc1427f6d",
   "metadata": {},
   "outputs": [],
   "source": [
    "class timeSeriesParams(object):\n",
    "    def __init__(self, filename, filepath, **kwargs):\n",
    "        self.filename = filename\n",
    "        self.filepath = filepath\n",
    "        self.QPmethod = None\n",
    "        self.QP = None\n",
    "        self.noisy_QP = None\n",
    "        self.bestTauIdx = None\n",
    "        self.noisy_bestTauIdx = None\n",
    "        self.sat_m = None\n",
    "        self.noisy_sat_m = None\n",
    "\n",
    "        allowed_keys = [\"QPmethod\",\"QP\",\"noisy_QP\",\"bestTauIdx\",\"noisy_bestTauIdx\",\"sat_m\",\"noisy_sat_m\"]\n",
    "\t\t\n",
    "        self.__dict__.update((k,v) for k,v in kwargs.items() if k in allowed_keys)\n",
    "\t\t\n",
    "        "
   ]
  },
  {
   "cell_type": "code",
   "execution_count": 7,
   "id": "8c7ec96f-1943-4ecf-9f6f-0703b2994034",
   "metadata": {},
   "outputs": [
    {
     "name": "stdout",
     "output_type": "stream",
     "text": [
      "0_gaussianNoise_speculoos_perfect.txt\n",
      "1_gaussianProcess_speculoos_perfect.txt\n",
      "2_simplePeriodic_speculoos_perfect.txt\n",
      "3_KB88r_speculoos_perfect.txt\n",
      "4_rossler_x_speculoos_perfect.txt\n",
      "4_rossler_z_speculoos_perfect.txt\n",
      "4_rossler_y_speculoos_perfect.txt\n",
      "5_transformed_rossler_z_speculoos_perfect.txt\n",
      "5_transformed_rossler_x_speculoos_perfect.txt\n",
      "5_transformed_rossler_y_speculoos_perfect.txt\n",
      "6_lorenz_x_speculoos_perfect.txt\n",
      "6_lorenz_z_speculoos_perfect.txt\n",
      "6_lorenz_y_speculoos_perfect.txt\n"
     ]
    }
   ],
   "source": [
    "# Make a dictionary so we don't have to keep rerunning the FS86 and cao97 steps.\n",
    "for folder in folderpaths:\n",
    "    files = os.scandir(\"../data/{0}/\".format(folder))\n",
    "    for file in files:\n",
    "        if \".txt\" in file.name and \"perfect\" in file.name and \"speculoos\" in file.name:\n",
    "            print(file.name)\n",
    "            data = np.genfromtxt(file.path)\n",
    "            \n",
    "            if \"0\" in file.name:\n",
    "                ts = data[:,2]\n",
    "                noisy_ts = data[:,2]\n",
    "            else:\n",
    "                ts = data[:,1]\n",
    "                noisy_ts = data[:,2]\n",
    "                \n",
    "            if \"lorenz\" in file.name and \"_z_\" not in file.name:\n",
    "                QPmethod = \"localMaxSep\"\n",
    "            elif \"0\" in file.name:\n",
    "                QPmethod = \"localMaxSep\"\n",
    "            else:\n",
    "                QPmethod = \"power\"\n",
    "\n",
    "            # choose time delay (Fraser & Swinney 1986)\n",
    "            if \"0\" in file.name:\n",
    "                mutInfo, bestTauIdx, qp = sp.FS86(time = data[:,0], timeSeries = ts, QPmethod=QPmethod, method=\"global_min\", plot=False)\n",
    "                noisy_mutInfo, noisy_bestTauIdx, noisy_qp = sp.FS86(time = data[:,0], timeSeries = noisy_ts, QPmethod=QPmethod, method=\"global_min\", plot=False)\n",
    "            else:\n",
    "                mutInfo, bestTauIdx, qp = sp.FS86(time = data[:,0], timeSeries = ts, QPmethod=QPmethod, method=\"first_or_second_local_min\", plot=False)\n",
    "                noisy_mutInfo, noisy_bestTauIdx, noisy_qp = sp.FS86(time = data[:,0], timeSeries = noisy_ts, QPmethod=QPmethod, method=\"first_or_second_local_min\", plot=False)\n",
    "            \n",
    "            # choose embedding dimension (Cao 1997)\n",
    "            E1, E2, sat_m, not_change = sp.cao97(timeSeries=ts, tau=bestTauIdx, mMax=8)\n",
    "            noisy_E1, noisy_E2, noisy_sat_m, not_change = sp.cao97(timeSeries=noisy_ts, tau=noisy_bestTauIdx, mMax=8)\n",
    "            \n",
    "            tsp = timeSeriesParams(filename=file.name, filepath=file.path, QPmethod=QPmethod, QP=qp, noisy_QP=noisy_qp, bestTauIdx=bestTauIdx, noisy_bestTauIdx=noisy_bestTauIdx, sat_m=sat_m, noisy_sat_m=noisy_sat_m)\n",
    "            with open('{0}.pickle'.format(tsp.filename.split(\".txt\")[0]), 'wb') as f:\n",
    "                # Pickle the 'data' dictionary using the highest protocol available.\n",
    "                pickle.dump(tsp, f)"
   ]
  },
  {
   "cell_type": "code",
   "execution_count": null,
   "id": "c4efa4ac-ed5e-4141-b82c-5f0545b7a7f9",
   "metadata": {},
   "outputs": [],
   "source": []
  }
 ],
 "metadata": {
  "kernelspec": {
   "display_name": "Python 3 (ipykernel)",
   "language": "python",
   "name": "python3"
  },
  "language_info": {
   "codemirror_mode": {
    "name": "ipython",
    "version": 3
   },
   "file_extension": ".py",
   "mimetype": "text/x-python",
   "name": "python",
   "nbconvert_exporter": "python",
   "pygments_lexer": "ipython3",
   "version": "3.10.13"
  }
 },
 "nbformat": 4,
 "nbformat_minor": 5
}
