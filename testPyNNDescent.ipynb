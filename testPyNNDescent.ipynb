{
 "cells": [
  {
   "cell_type": "code",
   "execution_count": 1,
   "id": "68238290-f713-4895-902b-570ff3de616f",
   "metadata": {},
   "outputs": [],
   "source": [
    "import pynndescent\n",
    "import numpy as np\n",
    "import h5py\n",
    "from urllib.request import urlretrieve\n",
    "import os"
   ]
  },
  {
   "cell_type": "code",
   "execution_count": 2,
   "id": "9b6331df-f850-430a-9af5-6b479c846a05",
   "metadata": {},
   "outputs": [],
   "source": [
    "def get_ann_benchmark_data(dataset_name):\n",
    "    if not os.path.exists(f\"{dataset_name}.hdf5\"):\n",
    "        print(f\"Dataset {dataset_name} is not cached; downloading now ...\")\n",
    "        urlretrieve(f\"http://ann-benchmarks.com/{dataset_name}.hdf5\", f\"{dataset_name}.hdf5\")\n",
    "    hdf5_file = h5py.File(f\"{dataset_name}.hdf5\", \"r\")\n",
    "    return np.array(hdf5_file['train']), np.array(hdf5_file['test']), hdf5_file.attrs['distance']"
   ]
  },
  {
   "cell_type": "code",
   "execution_count": 3,
   "id": "43b9031c-4d27-4f8d-879d-d52062b44fc3",
   "metadata": {},
   "outputs": [
    {
     "name": "stdout",
     "output_type": "stream",
     "text": [
      "Dataset fashion-mnist-784-euclidean is not cached; downloading now ...\n"
     ]
    }
   ],
   "source": [
    "fmnist_train, fmnist_test, _ = get_ann_benchmark_data('fashion-mnist-784-euclidean')"
   ]
  },
  {
   "cell_type": "code",
   "execution_count": 5,
   "id": "7a4fd785-f724-46a4-b261-3a4af1f171ab",
   "metadata": {},
   "outputs": [
    {
     "name": "stdout",
     "output_type": "stream",
     "text": [
      "<class 'numpy.ndarray'>\n",
      "(60000, 784)\n"
     ]
    }
   ],
   "source": [
    "print(type(fmnist_train))\n",
    "print(np.shape(fmnist_train))"
   ]
  },
  {
   "cell_type": "code",
   "execution_count": null,
   "id": "d9879e97-ec0e-4515-859f-50b27ad2efef",
   "metadata": {},
   "outputs": [],
   "source": []
  }
 ],
 "metadata": {
  "kernelspec": {
   "display_name": "Python 3 (ipykernel)",
   "language": "python",
   "name": "python3"
  },
  "language_info": {
   "codemirror_mode": {
    "name": "ipython",
    "version": 3
   },
   "file_extension": ".py",
   "mimetype": "text/x-python",
   "name": "python",
   "nbconvert_exporter": "python",
   "pygments_lexer": "ipython3",
   "version": "3.7.11"
  }
 },
 "nbformat": 4,
 "nbformat_minor": 5
}
